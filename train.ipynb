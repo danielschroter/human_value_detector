{
 "cells": [
  {
   "cell_type": "markdown",
   "metadata": {
    "id": "ePVSga5E_a-e"
   },
   "source": [
    "# Train a Language Model to Detect Human Values in Arguments\n",
    "\n",
    "The following notebook contains the training-procedure for a single training.\n",
    "The final Model is an ensemble of several such runs. More information can be found in the system description paper."
   ]
  },
  {
   "cell_type": "code",
   "execution_count": null,
   "metadata": {
    "colab": {
     "base_uri": "https://localhost:8080/"
    },
    "executionInfo": {
     "elapsed": 25237,
     "status": "ok",
     "timestamp": 1667235617561,
     "user": {
      "displayName": "Daniel Schroter",
      "userId": "14162089145838719475"
     },
     "user_tz": -60
    },
    "id": "f3tx1knExlud",
    "outputId": "e08abd38-93af-466d-a856-e1bff8980834"
   },
   "outputs": [],
   "source": [
    "# if on google colab\n",
    "!pip install -q pytorch-lightning==1.6.4 neptune-client transformers sentencepiece"
   ]
  },
  {
   "cell_type": "code",
   "execution_count": 2,
   "metadata": {
    "colab": {
     "base_uri": "https://localhost:8080/"
    },
    "executionInfo": {
     "elapsed": 10254,
     "status": "ok",
     "timestamp": 1667235627811,
     "user": {
      "displayName": "Daniel Schroter",
      "userId": "14162089145838719475"
     },
     "user_tz": -60
    },
    "id": "y5mj8cpdM_O3",
    "outputId": "d8cefe5e-05ab-4ca4-fa7c-aa25d9f2c024"
   },
   "outputs": [
    {
     "name": "stderr",
     "output_type": "stream",
     "text": [
      "Global seed set to 42\n"
     ]
    },
    {
     "data": {
      "text/plain": "42"
     },
     "execution_count": 2,
     "metadata": {},
     "output_type": "execute_result"
    }
   ],
   "source": [
    "import pandas as pd\n",
    "import numpy as np\n",
    "\n",
    "from tqdm.auto import tqdm\n",
    "\n",
    "import torch\n",
    "\n",
    "from transformers import AutoTokenizer\n",
    "\n",
    "import pytorch_lightning as pl\n",
    "from pytorch_lightning.callbacks import ModelCheckpoint, EarlyStopping\n",
    "from pytorch_lightning.loggers import NeptuneLogger\n",
    "\n",
    "from torchmetrics import AUROC\n",
    "\n",
    "from sklearn.model_selection import train_test_split\n",
    "from sklearn.metrics import classification_report, multilabel_confusion_matrix\n",
    "\n",
    "import pickle\n",
    "import seaborn as sns\n",
    "from pylab import rcParams\n",
    "import torch.nn as nn\n",
    "\n",
    "%matplotlib inline\n",
    "%config InlineBackend.figure_format='retina'\n",
    "\n",
    "RANDOM_SEED = 42\n",
    "\n",
    "sns.set(style='whitegrid', palette='muted', font_scale=1.2)\n",
    "HAPPY_COLORS_PALETTE = [\"#01BEFE\", \"#FFDD00\", \"#FF7D00\", \"#FF006D\", \"#ADFF02\", \"#8F00FF\"]\n",
    "sns.set_palette(sns.color_palette(HAPPY_COLORS_PALETTE))\n",
    "rcParams['figure.figsize'] = 12, 8\n",
    "\n",
    "\n",
    "\n",
    "pl.seed_everything(RANDOM_SEED)"
   ]
  },
  {
   "cell_type": "code",
   "execution_count": 4,
   "metadata": {},
   "outputs": [
    {
     "data": {
      "text/plain": "True"
     },
     "execution_count": 4,
     "metadata": {},
     "output_type": "execute_result"
    }
   ],
   "source": [
    "torch.cuda.is_available()"
   ]
  },
  {
   "cell_type": "markdown",
   "metadata": {
    "id": "btZjckeJs5j7"
   },
   "source": [
    "If you are training to google colab and want to connect to drive"
   ]
  },
  {
   "cell_type": "code",
   "execution_count": null,
   "metadata": {
    "colab": {
     "base_uri": "https://localhost:8080/",
     "height": 35
    },
    "executionInfo": {
     "elapsed": 245,
     "status": "ok",
     "timestamp": 1667235666818,
     "user": {
      "displayName": "Daniel Schroter",
      "userId": "14162089145838719475"
     },
     "user_tz": -60
    },
    "id": "UuJkkr9Mpa3h",
    "outputId": "8e00bb43-f22e-4192-be3e-4ee617634117"
   },
   "outputs": [],
   "source": [
    "import os\n",
    "os.getcwd()\n",
    "from google.colab import drive\n",
    "drive.mount('/content/drive')"
   ]
  },
  {
   "cell_type": "code",
   "execution_count": null,
   "metadata": {
    "colab": {
     "base_uri": "https://localhost:8080/"
    },
    "executionInfo": {
     "elapsed": 17685,
     "status": "ok",
     "timestamp": 1667235684811,
     "user": {
      "displayName": "Daniel Schroter",
      "userId": "14162089145838719475"
     },
     "user_tz": -60
    },
    "id": "QE5P0dCepbkD",
    "outputId": "e41c97be-adda-4154-b24d-413ae994af5a"
   },
   "outputs": [],
   "source": [
    "cd ./drive/MyDrive/human_value/human_values_behind_arguments"
   ]
  },
  {
   "cell_type": "code",
   "execution_count": null,
   "metadata": {},
   "outputs": [],
   "source": [
    "!git pull"
   ]
  },
  {
   "cell_type": "markdown",
   "metadata": {},
   "source": [
    "## Import Modules\n",
    "We use Pytorch Lightning for the training and therefore import the Lighntning Data and Model Modules...."
   ]
  },
  {
   "cell_type": "code",
   "execution_count": 3,
   "metadata": {},
   "outputs": [],
   "source": [
    "from data_modules.BertDataModule import BertDataModule, BertDataset\n",
    "from models.BertFineTunerPl import BertFineTunerPl\n",
    "from weights.weights import INS #Weights for Weighting Loss Function (optional)\n",
    "from toolbox.bert_utils import max_for_thres # Algorithm that chooses threshold that maximizes f1-score"
   ]
  },
  {
   "cell_type": "markdown",
   "metadata": {},
   "source": [
    "# Define Parameters"
   ]
  },
  {
   "cell_type": "code",
   "execution_count": 4,
   "metadata": {},
   "outputs": [],
   "source": [
    "PARAMS = {\n",
    "    # Language Model and Hyperparameters\n",
    "    \"MODEL_PATH\": 'roberta-base',\n",
    "    \"BATCH_SIZE\": 8,\n",
    "    \"ACCUMULATE_GRAD_BATCHES\": 1,\n",
    "    \"LR\": 2e-5,\n",
    "    \"EPOCHS\": 3,\n",
    "    \"OPTIMIZER\": 'AdamW',\n",
    "    \"DEVICE\": torch.device('cuda' if torch.cuda.is_available() else 'cpu'),\n",
    "    \"NUM_TRAIN_WORKERS\": 4,\n",
    "    \"NUM_VAL_WORKERS\": 4,\n",
    "    \"MAX_TOKEN_COUNT\":165,\n",
    "    \"RANDOM_SEED\": RANDOM_SEED, #Random Seed Selected for this Training Run\n",
    "\n",
    "    # Apply Weights to loss function (optional, the submitted system does not weight the loss function).\n",
    "    \"WEIGHTS\": INS,\n",
    "    \"CRITERION\": [nn.BCEWithLogitsLoss()],\n",
    "    # \"CRITERION\": [nn.BCEWithLogitsLoss(pos_weight=torch.Tensor(INS))], # Optional\n",
    "\n",
    "\n",
    "\n",
    "    # Early Stopping Params\n",
    "    \"PATIENCE\": 3,\n",
    "    \"VAL_CHECK_INTERVAL\": 300,\n",
    "\n",
    "    # alternative \"custom_f1/Val\" and \"max\"\n",
    "    \"MAX_THRESHOLD_METRIC\": \"custom\", #The f1-score that should maximized (custom = formula for the task evaluation)\n",
    "    \"EARLY_STOPPING_METRIC\": \"avg_val_loss\",\n",
    "    \"EARLY_STOPPING_MODE\": \"min\",\n",
    "\n",
    "    # Additional Dropout or Additional Hidden Layers (Not used for the final submission)\n",
    "    \"DROPOUT\": None, # e.g 0.5 (float)\n",
    "    \"HIDDEN_LAYERS\":None, # Of Shape [(512, nn.ReLU()),...] put size of hidden Layer together with activation function in list\n",
    "\n",
    "    # ONLY CHANGE TOGETHER\n",
    "    \"VALIDATION_SET_SIZE\":500,\n",
    "    # \"TEST_SET_SIZE\": 500,\n",
    "\n",
    "    \"EMBEDDING\": \"CLS\", # \"CLS + MEAN\" for both. Which information should be used from Bert-Output. CLS Token in Submission.\n",
    "\n",
    "    \"TRAIN_PATH\" : \"./data/data_training_full.csv\", #\n",
    "    \"LEAVE_OUT_DATA_PATH\": \"./data/leave_out_dataset_300.csv\"\n",
    "    # \"VALIDATION_PATH\" : None,\n",
    "    # \"TEST_PATH\" : \"data_test_individual_v2_500.csv\",\n",
    "}\n"
   ]
  },
  {
   "cell_type": "markdown",
   "source": [
    "## Data Preprocessing\n",
    "Please see the data_gen.ipynb notebook... We create the training-data, and leave-out-datafiles there and save them in the data directory.\n"
   ],
   "metadata": {
    "collapsed": false
   }
  },
  {
   "cell_type": "code",
   "execution_count": 5,
   "outputs": [],
   "source": [
    "train_df = pd.read_csv(PARAMS[\"TRAIN_PATH\"], index_col=0)"
   ],
   "metadata": {
    "collapsed": false
   }
  },
  {
   "cell_type": "markdown",
   "source": [
    "We now get the LABEL_COLUMNS"
   ],
   "metadata": {
    "collapsed": false
   }
  },
  {
   "cell_type": "code",
   "execution_count": 6,
   "outputs": [],
   "source": [
    "LABEL_COLUMNS = train_df.columns.tolist()[6:]"
   ],
   "metadata": {
    "collapsed": false
   }
  },
  {
   "cell_type": "markdown",
   "source": [
    "For the best-performing submission we used a Leave-Out-Dataset, to determine the optimal threshold that maximizes the f1-score at the end. This dataset is used to determine the best threshold for an ensembled model."
   ],
   "metadata": {
    "collapsed": false
   }
  },
  {
   "cell_type": "code",
   "execution_count": 7,
   "outputs": [],
   "source": [
    "leave_out_df = pd.read_csv(PARAMS[\"LEAVE_OUT_DATA_PATH\"], index_col=0)"
   ],
   "metadata": {
    "collapsed": false
   }
  },
  {
   "cell_type": "markdown",
   "source": [
    "## (OPTIONAL) Create optional test dataset if you would like to evaluate the performance of the model immediately"
   ],
   "metadata": {
    "collapsed": false
   }
  },
  {
   "cell_type": "code",
   "execution_count": 23,
   "outputs": [],
   "source": [
    "train_df, test_df = train_test_split(train_df, test_size=500, random_state=42)"
   ],
   "metadata": {
    "collapsed": false
   }
  },
  {
   "cell_type": "markdown",
   "source": [
    "## Model Training"
   ],
   "metadata": {
    "collapsed": false
   }
  },
  {
   "cell_type": "markdown",
   "metadata": {
    "id": "rSQsvaBgoM7F"
   },
   "source": [
    "### Linear Learning Rate Schedule\n",
    "Define Parameters for the Linear Learning Rate Schedule"
   ]
  },
  {
   "cell_type": "code",
   "execution_count": 10,
   "metadata": {
    "id": "r2ywIz841yni"
   },
   "outputs": [],
   "source": [
    "steps_per_epoch=len(train_df) // PARAMS['BATCH_SIZE']\n",
    "total_training_steps = steps_per_epoch * PARAMS['EPOCHS']"
   ]
  },
  {
   "cell_type": "markdown",
   "metadata": {
    "id": "YjV_biJ72ERg"
   },
   "source": [
    "We'll use a fifth of the training steps for a warm-up:"
   ]
  },
  {
   "cell_type": "code",
   "execution_count": 11,
   "metadata": {
    "colab": {
     "base_uri": "https://localhost:8080/"
    },
    "executionInfo": {
     "elapsed": 4,
     "status": "ok",
     "timestamp": 1667223230416,
     "user": {
      "displayName": "Daniel Schroter",
      "userId": "14162089145838719475"
     },
     "user_tz": -60
    },
    "id": "OSHJ3V47G90d",
    "outputId": "f096a726-b8f3-406a-9078-6ec5780fc3aa"
   },
   "outputs": [
    {
     "data": {
      "text/plain": "(515, 2577)"
     },
     "execution_count": 11,
     "metadata": {},
     "output_type": "execute_result"
    }
   ],
   "source": [
    "warmup_steps = total_training_steps // 5\n",
    "warmup_steps, total_training_steps"
   ]
  },
  {
   "cell_type": "markdown",
   "source": [
    "### Prepare Data Modules for the Training"
   ],
   "metadata": {
    "collapsed": false
   }
  },
  {
   "cell_type": "markdown",
   "metadata": {},
   "source": [
    "#### Create Validation Set for this Run\n",
    "To make use of the total available data, the models in the final ensemble are trained on different train-validation splits..."
   ]
  },
  {
   "cell_type": "code",
   "execution_count": 12,
   "metadata": {},
   "outputs": [],
   "source": [
    "train_df, val_df = train_test_split(train_df, test_size=PARAMS[\"VALIDATION_SET_SIZE\"], random_state=PARAMS[\"RANDOM_SEED\"])"
   ]
  },
  {
   "cell_type": "markdown",
   "source": [
    "Create Tokenizer and Data Module for the Training"
   ],
   "metadata": {
    "collapsed": false
   }
  },
  {
   "cell_type": "code",
   "execution_count": 13,
   "metadata": {},
   "outputs": [],
   "source": [
    "TOKENIZER = AutoTokenizer.from_pretrained(PARAMS[\"MODEL_PATH\"])"
   ]
  },
  {
   "cell_type": "code",
   "execution_count": 14,
   "metadata": {},
   "outputs": [],
   "source": [
    "data_module = BertDataModule(\n",
    "    train_df,\n",
    "    val_df,\n",
    "    tokenizer=TOKENIZER,\n",
    "    params=PARAMS,\n",
    "    label_columns=LABEL_COLUMNS\n",
    ")"
   ]
  },
  {
   "cell_type": "markdown",
   "metadata": {},
   "source": [
    "### Create Model"
   ]
  },
  {
   "cell_type": "code",
   "execution_count": 15,
   "metadata": {},
   "outputs": [
    {
     "name": "stderr",
     "output_type": "stream",
     "text": [
      "Some weights of the model checkpoint at roberta-base were not used when initializing RobertaModel: ['lm_head.bias', 'lm_head.layer_norm.bias', 'lm_head.dense.weight', 'lm_head.layer_norm.weight', 'lm_head.dense.bias', 'lm_head.decoder.weight']\n",
      "- This IS expected if you are initializing RobertaModel from the checkpoint of a model trained on another task or with another architecture (e.g. initializing a BertForSequenceClassification model from a BertForPreTraining model).\n",
      "- This IS NOT expected if you are initializing RobertaModel from the checkpoint of a model that you expect to be exactly identical (initializing a BertForSequenceClassification model from a BertForSequenceClassification model).\n"
     ]
    }
   ],
   "source": [
    "model = BertFineTunerPl(n_classes=len(LABEL_COLUMNS), params=PARAMS, label_columns=LABEL_COLUMNS, n_training_steps=total_training_steps, n_warmup_steps=warmup_steps)\n",
    "NAME = f\"{PARAMS['MODEL_PATH'].replace('/','-')}-BS_{PARAMS['BATCH_SIZE']}-LR_{PARAMS['LR']}-HL_{PARAMS['HIDDEN_LAYERS']}-DROPOUT_{PARAMS['DROPOUT']}\"\n",
    "RUN_ID = None"
   ]
  },
  {
   "cell_type": "markdown",
   "source": [
    "We use Neptune.ai to log the experiment. This is optional. You need to create a new project and add the project and api key for the neptune logger."
   ],
   "metadata": {
    "collapsed": false
   }
  },
  {
   "cell_type": "code",
   "execution_count": 58,
   "metadata": {},
   "outputs": [
    {
     "name": "stderr",
     "output_type": "stream",
     "text": [
      "C:\\Users\\dschr\\anaconda3\\envs\\nlp_torch\\lib\\site-packages\\pytorch_lightning\\loggers\\neptune.py:436: NeptuneDeprecationWarning: `init` is deprecated, use `init_run` instead. We'll end support of it in `neptune-client==1.0.0`.\n",
      "  self._run_instance = neptune.init(**self._neptune_init_args)\n"
     ]
    },
    {
     "data": {
      "text/plain": "\u001B[31m╭─\u001B[0m\u001B[31m──────────────────────────────\u001B[0m\u001B[31m \u001B[0m\u001B[1;31mTraceback \u001B[0m\u001B[1;2;31m(most recent call last)\u001B[0m\u001B[31m \u001B[0m\u001B[31m───────────────────────────────\u001B[0m\u001B[31m─╮\u001B[0m\n\u001B[31m│\u001B[0m \u001B[33mC:\\Users\\dschr\\anaconda3\\envs\\nlp_torch\\lib\\site-packages\\neptune\\new\\internal\\credentials.py\u001B[0m:\u001B[94m69\u001B[0m \u001B[31m│\u001B[0m\n\u001B[31m│\u001B[0m in \u001B[92m_api_token_to_dict\u001B[0m                                                                            \u001B[31m│\u001B[0m\n\u001B[31m│\u001B[0m                                                                                                  \u001B[31m│\u001B[0m\n\u001B[31m│\u001B[0m   \u001B[2m66 \u001B[0m\u001B[2m│   \u001B[0m\u001B[1;95m@staticmethod\u001B[0m                                                                           \u001B[31m│\u001B[0m\n\u001B[31m│\u001B[0m   \u001B[2m67 \u001B[0m\u001B[2m│   \u001B[0m\u001B[94mdef\u001B[0m \u001B[92m_api_token_to_dict\u001B[0m(api_token: \u001B[96mstr\u001B[0m) -> Dict[\u001B[96mstr\u001B[0m, \u001B[96mstr\u001B[0m]:                               \u001B[31m│\u001B[0m\n\u001B[31m│\u001B[0m   \u001B[2m68 \u001B[0m\u001B[2m│   │   \u001B[0m\u001B[94mtry\u001B[0m:                                                                                \u001B[31m│\u001B[0m\n\u001B[31m│\u001B[0m \u001B[31m❱ \u001B[0m69 \u001B[2m│   │   │   \u001B[0m\u001B[94mreturn\u001B[0m json.loads(base64.b64decode(api_token.encode()).decode(\u001B[33m\"\u001B[0m\u001B[33mutf-8\u001B[0m\u001B[33m\"\u001B[0m))         \u001B[31m│\u001B[0m\n\u001B[31m│\u001B[0m   \u001B[2m70 \u001B[0m\u001B[2m│   │   \u001B[0m\u001B[94mexcept\u001B[0m \u001B[96mException\u001B[0m:                                                                   \u001B[31m│\u001B[0m\n\u001B[31m│\u001B[0m   \u001B[2m71 \u001B[0m\u001B[2m│   │   │   \u001B[0m\u001B[94mraise\u001B[0m NeptuneInvalidApiTokenException()                                         \u001B[31m│\u001B[0m\n\u001B[31m│\u001B[0m   \u001B[2m72 \u001B[0m                                                                                            \u001B[31m│\u001B[0m\n\u001B[31m│\u001B[0m                                                                                                  \u001B[31m│\u001B[0m\n\u001B[31m│\u001B[0m \u001B[33mC:\\Users\\dschr\\anaconda3\\envs\\nlp_torch\\lib\\base64.py\u001B[0m:\u001B[94m87\u001B[0m in \u001B[92mb64decode\u001B[0m                            \u001B[31m│\u001B[0m\n\u001B[31m│\u001B[0m                                                                                                  \u001B[31m│\u001B[0m\n\u001B[31m│\u001B[0m   \u001B[2m 84 \u001B[0m\u001B[2m│   │   \u001B[0ms = s.translate(\u001B[96mbytes\u001B[0m.maketrans(altchars, \u001B[33mb\u001B[0m\u001B[33m'\u001B[0m\u001B[33m+/\u001B[0m\u001B[33m'\u001B[0m))                                  \u001B[31m│\u001B[0m\n\u001B[31m│\u001B[0m   \u001B[2m 85 \u001B[0m\u001B[2m│   \u001B[0m\u001B[94mif\u001B[0m validate \u001B[95mand\u001B[0m \u001B[95mnot\u001B[0m re.fullmatch(\u001B[33mb\u001B[0m\u001B[33m'\u001B[0m\u001B[33m[A-Za-z0-9+/]*=\u001B[0m\u001B[33m{\u001B[0m\u001B[33m0,2}\u001B[0m\u001B[33m'\u001B[0m, s):                          \u001B[31m│\u001B[0m\n\u001B[31m│\u001B[0m   \u001B[2m 86 \u001B[0m\u001B[2m│   │   \u001B[0m\u001B[94mraise\u001B[0m binascii.Error(\u001B[33m'\u001B[0m\u001B[33mNon-base64 digit found\u001B[0m\u001B[33m'\u001B[0m)                                     \u001B[31m│\u001B[0m\n\u001B[31m│\u001B[0m \u001B[31m❱ \u001B[0m 87 \u001B[2m│   \u001B[0m\u001B[94mreturn\u001B[0m binascii.a2b_base64(s)                                                          \u001B[31m│\u001B[0m\n\u001B[31m│\u001B[0m   \u001B[2m 88 \u001B[0m                                                                                           \u001B[31m│\u001B[0m\n\u001B[31m│\u001B[0m   \u001B[2m 89 \u001B[0m                                                                                           \u001B[31m│\u001B[0m\n\u001B[31m│\u001B[0m   \u001B[2m 90 \u001B[0m\u001B[94mdef\u001B[0m \u001B[92mstandard_b64encode\u001B[0m(s):                                                                 \u001B[31m│\u001B[0m\n\u001B[31m╰──────────────────────────────────────────────────────────────────────────────────────────────────╯\u001B[0m\n\u001B[1;91mError: \u001B[0mIncorrect padding\n\n\u001B[3mDuring handling of the above exception, another exception occurred:\u001B[0m\n\n\u001B[31m╭─\u001B[0m\u001B[31m──────────────────────────────\u001B[0m\u001B[31m \u001B[0m\u001B[1;31mTraceback \u001B[0m\u001B[1;2;31m(most recent call last)\u001B[0m\u001B[31m \u001B[0m\u001B[31m───────────────────────────────\u001B[0m\u001B[31m─╮\u001B[0m\n\u001B[31m│\u001B[0m \u001B[33mC:\\Users\\dschr\\AppData\\Local\\Temp\\ipykernel_23124\\2013610899.py\u001B[0m:\u001B[94m10\u001B[0m in \u001B[92m<cell line: 10>\u001B[0m            \u001B[31m│\u001B[0m\n\u001B[31m│\u001B[0m                                                                                                  \u001B[31m│\u001B[0m\n\u001B[31m│\u001B[0m \u001B[3;31m[Errno 2] No such file or directory: \u001B[0m                                                            \u001B[31m│\u001B[0m\n\u001B[31m│\u001B[0m \u001B[3;31m'C:\\\\Users\\\\dschr\\\\AppData\\\\Local\\\\Temp\\\\ipykernel_23124\\\\2013610899.py'\u001B[0m                         \u001B[31m│\u001B[0m\n\u001B[31m│\u001B[0m                                                                                                  \u001B[31m│\u001B[0m\n\u001B[31m│\u001B[0m \u001B[33mC:\\Users\\dschr\\anaconda3\\envs\\nlp_torch\\lib\\site-packages\\pytorch_lightning\\utilities\\rank_zero.\u001B[0m \u001B[31m│\u001B[0m\n\u001B[31m│\u001B[0m \u001B[33mpy\u001B[0m:\u001B[94m32\u001B[0m in \u001B[92mwrapped_fn\u001B[0m                                                                              \u001B[31m│\u001B[0m\n\u001B[31m│\u001B[0m                                                                                                  \u001B[31m│\u001B[0m\n\u001B[31m│\u001B[0m   \u001B[2m 29 \u001B[0m\u001B[2m│   \u001B[0m\u001B[1;95m@wraps\u001B[0m(fn)                                                                             \u001B[31m│\u001B[0m\n\u001B[31m│\u001B[0m   \u001B[2m 30 \u001B[0m\u001B[2m│   \u001B[0m\u001B[94mdef\u001B[0m \u001B[92mwrapped_fn\u001B[0m(*args: Any, **kwargs: Any) -> Optional[Any]:                            \u001B[31m│\u001B[0m\n\u001B[31m│\u001B[0m   \u001B[2m 31 \u001B[0m\u001B[2m│   │   \u001B[0m\u001B[94mif\u001B[0m rank_zero_only.rank == \u001B[94m0\u001B[0m:                                                       \u001B[31m│\u001B[0m\n\u001B[31m│\u001B[0m \u001B[31m❱ \u001B[0m 32 \u001B[2m│   │   │   \u001B[0m\u001B[94mreturn\u001B[0m fn(*args, **kwargs)                                                     \u001B[31m│\u001B[0m\n\u001B[31m│\u001B[0m   \u001B[2m 33 \u001B[0m\u001B[2m│   │   \u001B[0m\u001B[94mreturn\u001B[0m \u001B[94mNone\u001B[0m                                                                        \u001B[31m│\u001B[0m\n\u001B[31m│\u001B[0m   \u001B[2m 34 \u001B[0m\u001B[2m│   \u001B[0m                                                                                       \u001B[31m│\u001B[0m\n\u001B[31m│\u001B[0m   \u001B[2m 35 \u001B[0m\u001B[2m│   \u001B[0m\u001B[94mreturn\u001B[0m wrapped_fn                                                                      \u001B[31m│\u001B[0m\n\u001B[31m│\u001B[0m                                                                                                  \u001B[31m│\u001B[0m\n\u001B[31m│\u001B[0m \u001B[33mC:\\Users\\dschr\\anaconda3\\envs\\nlp_torch\\lib\\site-packages\\pytorch_lightning\\loggers\\neptune.py\u001B[0m:\u001B[94m4\u001B[0m \u001B[31m│\u001B[0m\n\u001B[31m│\u001B[0m \u001B[94m91\u001B[0m in \u001B[92mlog_hyperparams\u001B[0m                                                                            \u001B[31m│\u001B[0m\n\u001B[31m│\u001B[0m                                                                                                  \u001B[31m│\u001B[0m\n\u001B[31m│\u001B[0m   \u001B[2m488 \u001B[0m\u001B[2m│   │   \u001B[0mparameters_key = \u001B[96mself\u001B[0m.PARAMETERS_KEY                                               \u001B[31m│\u001B[0m\n\u001B[31m│\u001B[0m   \u001B[2m489 \u001B[0m\u001B[2m│   │   \u001B[0mparameters_key = \u001B[96mself\u001B[0m._construct_path_with_prefix(parameters_key)                  \u001B[31m│\u001B[0m\n\u001B[31m│\u001B[0m   \u001B[2m490 \u001B[0m\u001B[2m│   │   \u001B[0m                                                                                   \u001B[31m│\u001B[0m\n\u001B[31m│\u001B[0m \u001B[31m❱ \u001B[0m491 \u001B[2m│   │   \u001B[0m\u001B[96mself\u001B[0m.run[parameters_key] = params                                                  \u001B[31m│\u001B[0m\n\u001B[31m│\u001B[0m   \u001B[2m492 \u001B[0m\u001B[2m│   \u001B[0m                                                                                       \u001B[31m│\u001B[0m\n\u001B[31m│\u001B[0m   \u001B[2m493 \u001B[0m\u001B[2m│   \u001B[0m\u001B[1;95m@rank_zero_only\u001B[0m                                                                        \u001B[31m│\u001B[0m\n\u001B[31m│\u001B[0m   \u001B[2m494 \u001B[0m\u001B[2m│   \u001B[0m\u001B[94mdef\u001B[0m \u001B[92mlog_metrics\u001B[0m(\u001B[96mself\u001B[0m, metrics: Dict[\u001B[96mstr\u001B[0m, Union[torch.Tensor, \u001B[96mfloat\u001B[0m]], step: Optional   \u001B[31m│\u001B[0m\n\u001B[31m│\u001B[0m                                                                                                  \u001B[31m│\u001B[0m\n\u001B[31m│\u001B[0m \u001B[33mC:\\Users\\dschr\\anaconda3\\envs\\nlp_torch\\lib\\site-packages\\pytorch_lightning\\loggers\\base.py\u001B[0m:\u001B[94m41\u001B[0m   \u001B[31m│\u001B[0m\n\u001B[31m│\u001B[0m in \u001B[92mexperiment\u001B[0m                                                                                    \u001B[31m│\u001B[0m\n\u001B[31m│\u001B[0m                                                                                                  \u001B[31m│\u001B[0m\n\u001B[31m│\u001B[0m   \u001B[2m 38 \u001B[0m\u001B[2m│   │   \u001B[0m\u001B[94mdef\u001B[0m \u001B[92mget_experiment\u001B[0m():                                                              \u001B[31m│\u001B[0m\n\u001B[31m│\u001B[0m   \u001B[2m 39 \u001B[0m\u001B[2m│   │   │   \u001B[0m\u001B[94mreturn\u001B[0m fn(\u001B[96mself\u001B[0m)                                                                \u001B[31m│\u001B[0m\n\u001B[31m│\u001B[0m   \u001B[2m 40 \u001B[0m\u001B[2m│   │   \u001B[0m                                                                                   \u001B[31m│\u001B[0m\n\u001B[31m│\u001B[0m \u001B[31m❱ \u001B[0m 41 \u001B[2m│   │   \u001B[0m\u001B[94mreturn\u001B[0m get_experiment() \u001B[95mor\u001B[0m DummyExperiment()                                       \u001B[31m│\u001B[0m\n\u001B[31m│\u001B[0m   \u001B[2m 42 \u001B[0m\u001B[2m│   \u001B[0m                                                                                       \u001B[31m│\u001B[0m\n\u001B[31m│\u001B[0m   \u001B[2m 43 \u001B[0m\u001B[2m│   \u001B[0m\u001B[94mreturn\u001B[0m experiment                                                                      \u001B[31m│\u001B[0m\n\u001B[31m│\u001B[0m   \u001B[2m 44 \u001B[0m                                                                                           \u001B[31m│\u001B[0m\n\u001B[31m│\u001B[0m                                                                                                  \u001B[31m│\u001B[0m\n\u001B[31m│\u001B[0m \u001B[33mC:\\Users\\dschr\\anaconda3\\envs\\nlp_torch\\lib\\site-packages\\pytorch_lightning\\utilities\\rank_zero.\u001B[0m \u001B[31m│\u001B[0m\n\u001B[31m│\u001B[0m \u001B[33mpy\u001B[0m:\u001B[94m32\u001B[0m in \u001B[92mwrapped_fn\u001B[0m                                                                              \u001B[31m│\u001B[0m\n\u001B[31m│\u001B[0m                                                                                                  \u001B[31m│\u001B[0m\n\u001B[31m│\u001B[0m   \u001B[2m 29 \u001B[0m\u001B[2m│   \u001B[0m\u001B[1;95m@wraps\u001B[0m(fn)                                                                             \u001B[31m│\u001B[0m\n\u001B[31m│\u001B[0m   \u001B[2m 30 \u001B[0m\u001B[2m│   \u001B[0m\u001B[94mdef\u001B[0m \u001B[92mwrapped_fn\u001B[0m(*args: Any, **kwargs: Any) -> Optional[Any]:                            \u001B[31m│\u001B[0m\n\u001B[31m│\u001B[0m   \u001B[2m 31 \u001B[0m\u001B[2m│   │   \u001B[0m\u001B[94mif\u001B[0m rank_zero_only.rank == \u001B[94m0\u001B[0m:                                                       \u001B[31m│\u001B[0m\n\u001B[31m│\u001B[0m \u001B[31m❱ \u001B[0m 32 \u001B[2m│   │   │   \u001B[0m\u001B[94mreturn\u001B[0m fn(*args, **kwargs)                                                     \u001B[31m│\u001B[0m\n\u001B[31m│\u001B[0m   \u001B[2m 33 \u001B[0m\u001B[2m│   │   \u001B[0m\u001B[94mreturn\u001B[0m \u001B[94mNone\u001B[0m                                                                        \u001B[31m│\u001B[0m\n\u001B[31m│\u001B[0m   \u001B[2m 34 \u001B[0m\u001B[2m│   \u001B[0m                                                                                       \u001B[31m│\u001B[0m\n\u001B[31m│\u001B[0m   \u001B[2m 35 \u001B[0m\u001B[2m│   \u001B[0m\u001B[94mreturn\u001B[0m wrapped_fn                                                                      \u001B[31m│\u001B[0m\n\u001B[31m│\u001B[0m                                                                                                  \u001B[31m│\u001B[0m\n\u001B[31m│\u001B[0m \u001B[33mC:\\Users\\dschr\\anaconda3\\envs\\nlp_torch\\lib\\site-packages\\pytorch_lightning\\loggers\\base.py\u001B[0m:\u001B[94m39\u001B[0m   \u001B[31m│\u001B[0m\n\u001B[31m│\u001B[0m in \u001B[92mget_experiment\u001B[0m                                                                                \u001B[31m│\u001B[0m\n\u001B[31m│\u001B[0m                                                                                                  \u001B[31m│\u001B[0m\n\u001B[31m│\u001B[0m   \u001B[2m 36 \u001B[0m\u001B[2m│   \u001B[0m\u001B[94mdef\u001B[0m \u001B[92mexperiment\u001B[0m(\u001B[96mself\u001B[0m):                                                                  \u001B[31m│\u001B[0m\n\u001B[31m│\u001B[0m   \u001B[2m 37 \u001B[0m\u001B[2m│   │   \u001B[0m\u001B[1;95m@rank_zero_only\u001B[0m                                                                    \u001B[31m│\u001B[0m\n\u001B[31m│\u001B[0m   \u001B[2m 38 \u001B[0m\u001B[2m│   │   \u001B[0m\u001B[94mdef\u001B[0m \u001B[92mget_experiment\u001B[0m():                                                              \u001B[31m│\u001B[0m\n\u001B[31m│\u001B[0m \u001B[31m❱ \u001B[0m 39 \u001B[2m│   │   │   \u001B[0m\u001B[94mreturn\u001B[0m fn(\u001B[96mself\u001B[0m)                                                                \u001B[31m│\u001B[0m\n\u001B[31m│\u001B[0m   \u001B[2m 40 \u001B[0m\u001B[2m│   │   \u001B[0m                                                                                   \u001B[31m│\u001B[0m\n\u001B[31m│\u001B[0m   \u001B[2m 41 \u001B[0m\u001B[2m│   │   \u001B[0m\u001B[94mreturn\u001B[0m get_experiment() \u001B[95mor\u001B[0m DummyExperiment()                                       \u001B[31m│\u001B[0m\n\u001B[31m│\u001B[0m   \u001B[2m 42 \u001B[0m                                                                                           \u001B[31m│\u001B[0m\n\u001B[31m│\u001B[0m                                                                                                  \u001B[31m│\u001B[0m\n\u001B[31m│\u001B[0m \u001B[33mC:\\Users\\dschr\\anaconda3\\envs\\nlp_torch\\lib\\site-packages\\pytorch_lightning\\loggers\\neptune.py\u001B[0m:\u001B[94m4\u001B[0m \u001B[31m│\u001B[0m\n\u001B[31m│\u001B[0m \u001B[94m36\u001B[0m in \u001B[92mrun\u001B[0m                                                                                        \u001B[31m│\u001B[0m\n\u001B[31m│\u001B[0m                                                                                                  \u001B[31m│\u001B[0m\n\u001B[31m│\u001B[0m   \u001B[2m433 \u001B[0m\u001B[2m│   \u001B[0m\u001B[94mdef\u001B[0m \u001B[92mrun\u001B[0m(\u001B[96mself\u001B[0m) -> Run:                                                                  \u001B[31m│\u001B[0m\n\u001B[31m│\u001B[0m   \u001B[2m434 \u001B[0m\u001B[2m│   │   \u001B[0m\u001B[94mtry\u001B[0m:                                                                               \u001B[31m│\u001B[0m\n\u001B[31m│\u001B[0m   \u001B[2m435 \u001B[0m\u001B[2m│   │   │   \u001B[0m\u001B[94mif\u001B[0m \u001B[95mnot\u001B[0m \u001B[96mself\u001B[0m._run_instance:                                                     \u001B[31m│\u001B[0m\n\u001B[31m│\u001B[0m \u001B[31m❱ \u001B[0m436 \u001B[2m│   │   │   │   \u001B[0m\u001B[96mself\u001B[0m._run_instance = neptune.init(**\u001B[96mself\u001B[0m._neptune_init_args)               \u001B[31m│\u001B[0m\n\u001B[31m│\u001B[0m   \u001B[2m437 \u001B[0m\u001B[2m│   │   │   │   \u001B[0m\u001B[96mself\u001B[0m._retrieve_run_data()                                                  \u001B[31m│\u001B[0m\n\u001B[31m│\u001B[0m   \u001B[2m438 \u001B[0m\u001B[2m│   │   │   │   \u001B[0m\u001B[2m# make sure that we've log integration version for newly created\u001B[0m           \u001B[31m│\u001B[0m\n\u001B[31m│\u001B[0m   \u001B[2m439 \u001B[0m\u001B[2m│   │   │   │   \u001B[0m\u001B[96mself\u001B[0m._run_instance[_INTEGRATION_VERSION_KEY] = __version__                 \u001B[31m│\u001B[0m\n\u001B[31m│\u001B[0m                                                                                                  \u001B[31m│\u001B[0m\n\u001B[31m│\u001B[0m \u001B[33mC:\\Users\\dschr\\anaconda3\\envs\\nlp_torch\\lib\\site-packages\\neptune\\new\\internal\\utils\\deprecation\u001B[0m \u001B[31m│\u001B[0m\n\u001B[31m│\u001B[0m \u001B[33m.py\u001B[0m:\u001B[94m37\u001B[0m in \u001B[92minner\u001B[0m                                                                                  \u001B[31m│\u001B[0m\n\u001B[31m│\u001B[0m                                                                                                  \u001B[31m│\u001B[0m\n\u001B[31m│\u001B[0m   \u001B[2m34 \u001B[0m\u001B[2m│   │   │   │   \u001B[0mstack_level=stack_level + \u001B[94m1\u001B[0m,                                                \u001B[31m│\u001B[0m\n\u001B[31m│\u001B[0m   \u001B[2m35 \u001B[0m\u001B[2m│   │   │   \u001B[0m)                                                                               \u001B[31m│\u001B[0m\n\u001B[31m│\u001B[0m   \u001B[2m36 \u001B[0m\u001B[2m│   │   │   \u001B[0m                                                                                \u001B[31m│\u001B[0m\n\u001B[31m│\u001B[0m \u001B[31m❱ \u001B[0m37 \u001B[2m│   │   │   \u001B[0m\u001B[94mreturn\u001B[0m func(*args, **kwargs)                                                    \u001B[31m│\u001B[0m\n\u001B[31m│\u001B[0m   \u001B[2m38 \u001B[0m\u001B[2m│   │   \u001B[0m                                                                                    \u001B[31m│\u001B[0m\n\u001B[31m│\u001B[0m   \u001B[2m39 \u001B[0m\u001B[2m│   │   \u001B[0m\u001B[94mreturn\u001B[0m inner                                                                        \u001B[31m│\u001B[0m\n\u001B[31m│\u001B[0m   \u001B[2m40 \u001B[0m                                                                                            \u001B[31m│\u001B[0m\n\u001B[31m│\u001B[0m                                                                                                  \u001B[31m│\u001B[0m\n\u001B[31m│\u001B[0m \u001B[33mC:\\Users\\dschr\\anaconda3\\envs\\nlp_torch\\lib\\site-packages\\neptune\\new\\internal\\init\\__init__.py\u001B[0m: \u001B[31m│\u001B[0m\n\u001B[31m│\u001B[0m \u001B[94m43\u001B[0m in \u001B[92minit\u001B[0m                                                                                       \u001B[31m│\u001B[0m\n\u001B[31m│\u001B[0m                                                                                                  \u001B[31m│\u001B[0m\n\u001B[31m│\u001B[0m   \u001B[2m40 \u001B[0m                                                                                            \u001B[31m│\u001B[0m\n\u001B[31m│\u001B[0m   \u001B[2m41 \u001B[0m\u001B[1;95m@deprecated\u001B[0m(alternative=\u001B[33m\"\u001B[0m\u001B[33minit_run\u001B[0m\u001B[33m\"\u001B[0m)                                                         \u001B[31m│\u001B[0m\n\u001B[31m│\u001B[0m   \u001B[2m42 \u001B[0m\u001B[94mdef\u001B[0m \u001B[92minit\u001B[0m(*args, **kwargs):                                                                  \u001B[31m│\u001B[0m\n\u001B[31m│\u001B[0m \u001B[31m❱ \u001B[0m43 \u001B[2m│   \u001B[0m\u001B[94mreturn\u001B[0m init_run(*args, **kwargs)                                                        \u001B[31m│\u001B[0m\n\u001B[31m│\u001B[0m   \u001B[2m44 \u001B[0m                                                                                            \u001B[31m│\u001B[0m\n\u001B[31m│\u001B[0m                                                                                                  \u001B[31m│\u001B[0m\n\u001B[31m│\u001B[0m \u001B[33mC:\\Users\\dschr\\anaconda3\\envs\\nlp_torch\\lib\\site-packages\\neptune\\new\\internal\\utils\\deprecation\u001B[0m \u001B[31m│\u001B[0m\n\u001B[31m│\u001B[0m \u001B[33m.py\u001B[0m:\u001B[94m61\u001B[0m in \u001B[92minner\u001B[0m                                                                                  \u001B[31m│\u001B[0m\n\u001B[31m│\u001B[0m                                                                                                  \u001B[31m│\u001B[0m\n\u001B[31m│\u001B[0m   \u001B[2m58 \u001B[0m\u001B[2m│   │   │   │   \u001B[0mkwargs[required_kwarg_name] = kwargs[deprecated_kwarg_name]                 \u001B[31m│\u001B[0m\n\u001B[31m│\u001B[0m   \u001B[2m59 \u001B[0m\u001B[2m│   │   │   │   \u001B[0m\u001B[94mdel\u001B[0m kwargs[deprecated_kwarg_name]                                           \u001B[31m│\u001B[0m\n\u001B[31m│\u001B[0m   \u001B[2m60 \u001B[0m\u001B[2m│   │   │   \u001B[0m                                                                                \u001B[31m│\u001B[0m\n\u001B[31m│\u001B[0m \u001B[31m❱ \u001B[0m61 \u001B[2m│   │   │   \u001B[0m\u001B[94mreturn\u001B[0m f(*args, **kwargs)                                                       \u001B[31m│\u001B[0m\n\u001B[31m│\u001B[0m   \u001B[2m62 \u001B[0m\u001B[2m│   │   \u001B[0m                                                                                    \u001B[31m│\u001B[0m\n\u001B[31m│\u001B[0m   \u001B[2m63 \u001B[0m\u001B[2m│   │   \u001B[0m\u001B[94mreturn\u001B[0m inner                                                                        \u001B[31m│\u001B[0m\n\u001B[31m│\u001B[0m   \u001B[2m64 \u001B[0m                                                                                            \u001B[31m│\u001B[0m\n\u001B[31m│\u001B[0m                                                                                                  \u001B[31m│\u001B[0m\n\u001B[31m│\u001B[0m \u001B[33mC:\\Users\\dschr\\anaconda3\\envs\\nlp_torch\\lib\\site-packages\\neptune\\new\\internal\\init\\run.py\u001B[0m:\u001B[94m250\u001B[0m   \u001B[31m│\u001B[0m\n\u001B[31m│\u001B[0m in \u001B[92minit_run\u001B[0m                                                                                      \u001B[31m│\u001B[0m\n\u001B[31m│\u001B[0m                                                                                                  \u001B[31m│\u001B[0m\n\u001B[31m│\u001B[0m   \u001B[2m247 \u001B[0m\u001B[2m│   \u001B[0m\u001B[94mif\u001B[0m with_id \u001B[95mand\u001B[0m custom_run_id:                                                          \u001B[31m│\u001B[0m\n\u001B[31m│\u001B[0m   \u001B[2m248 \u001B[0m\u001B[2m│   │   \u001B[0m\u001B[94mraise\u001B[0m NeptuneRunResumeAndCustomIdCollision()                                       \u001B[31m│\u001B[0m\n\u001B[31m│\u001B[0m   \u001B[2m249 \u001B[0m\u001B[2m│   \u001B[0m                                                                                       \u001B[31m│\u001B[0m\n\u001B[31m│\u001B[0m \u001B[31m❱ \u001B[0m250 \u001B[2m│   \u001B[0mbackend = get_backend(mode=mode, api_token=api_token, proxies=proxies)                 \u001B[31m│\u001B[0m\n\u001B[31m│\u001B[0m   \u001B[2m251 \u001B[0m\u001B[2m│   \u001B[0m                                                                                       \u001B[31m│\u001B[0m\n\u001B[31m│\u001B[0m   \u001B[2m252 \u001B[0m\u001B[2m│   \u001B[0m\u001B[94mif\u001B[0m mode == Mode.OFFLINE \u001B[95mor\u001B[0m mode == Mode.DEBUG:                                         \u001B[31m│\u001B[0m\n\u001B[31m│\u001B[0m   \u001B[2m253 \u001B[0m\u001B[2m│   │   \u001B[0mproject = OFFLINE_PROJECT_QUALIFIED_NAME                                           \u001B[31m│\u001B[0m\n\u001B[31m│\u001B[0m                                                                                                  \u001B[31m│\u001B[0m\n\u001B[31m│\u001B[0m \u001B[33mC:\\Users\\dschr\\anaconda3\\envs\\nlp_torch\\lib\\site-packages\\neptune\\new\\internal\\backends\\factory.\u001B[0m \u001B[31m│\u001B[0m\n\u001B[31m│\u001B[0m \u001B[33mpy\u001B[0m:\u001B[94m30\u001B[0m in \u001B[92mget_backend\u001B[0m                                                                             \u001B[31m│\u001B[0m\n\u001B[31m│\u001B[0m                                                                                                  \u001B[31m│\u001B[0m\n\u001B[31m│\u001B[0m   \u001B[2m27 \u001B[0m                                                                                            \u001B[31m│\u001B[0m\n\u001B[31m│\u001B[0m   \u001B[2m28 \u001B[0m\u001B[94mdef\u001B[0m \u001B[92mget_backend\u001B[0m(mode: Mode, api_token: Optional[\u001B[96mstr\u001B[0m] = \u001B[94mNone\u001B[0m, proxies: Optional[\u001B[96mdict\u001B[0m] = \u001B[94mN\u001B[0m    \u001B[31m│\u001B[0m\n\u001B[31m│\u001B[0m   \u001B[2m29 \u001B[0m\u001B[2m│   \u001B[0m\u001B[94mif\u001B[0m mode == Mode.ASYNC:                                                                  \u001B[31m│\u001B[0m\n\u001B[31m│\u001B[0m \u001B[31m❱ \u001B[0m30 \u001B[2m│   │   \u001B[0m\u001B[94mreturn\u001B[0m HostedNeptuneBackend(credentials=Credentials.from_token(api_token=api_tok    \u001B[31m│\u001B[0m\n\u001B[31m│\u001B[0m   \u001B[2m31 \u001B[0m\u001B[2m│   \u001B[0m\u001B[94melif\u001B[0m mode == Mode.SYNC:                                                                 \u001B[31m│\u001B[0m\n\u001B[31m│\u001B[0m   \u001B[2m32 \u001B[0m\u001B[2m│   │   \u001B[0m\u001B[94mreturn\u001B[0m HostedNeptuneBackend(credentials=Credentials.from_token(api_token=api_tok    \u001B[31m│\u001B[0m\n\u001B[31m│\u001B[0m   \u001B[2m33 \u001B[0m\u001B[2m│   \u001B[0m\u001B[94melif\u001B[0m mode == Mode.DEBUG:                                                                \u001B[31m│\u001B[0m\n\u001B[31m│\u001B[0m                                                                                                  \u001B[31m│\u001B[0m\n\u001B[31m│\u001B[0m \u001B[33mC:\\Users\\dschr\\anaconda3\\envs\\nlp_torch\\lib\\site-packages\\neptune\\new\\internal\\credentials.py\u001B[0m:\u001B[94m53\u001B[0m \u001B[31m│\u001B[0m\n\u001B[31m│\u001B[0m in \u001B[92mfrom_token\u001B[0m                                                                                    \u001B[31m│\u001B[0m\n\u001B[31m│\u001B[0m                                                                                                  \u001B[31m│\u001B[0m\n\u001B[31m│\u001B[0m   \u001B[2m50 \u001B[0m\u001B[2m│   │   │   \u001B[0m\u001B[94mraise\u001B[0m NeptuneMissingApiTokenException()                                         \u001B[31m│\u001B[0m\n\u001B[31m│\u001B[0m   \u001B[2m51 \u001B[0m\u001B[2m│   │   \u001B[0m                                                                                    \u001B[31m│\u001B[0m\n\u001B[31m│\u001B[0m   \u001B[2m52 \u001B[0m\u001B[2m│   │   \u001B[0mapi_token = api_token.strip()                                                       \u001B[31m│\u001B[0m\n\u001B[31m│\u001B[0m \u001B[31m❱ \u001B[0m53 \u001B[2m│   │   \u001B[0mtoken_dict = Credentials._api_token_to_dict(api_token)                              \u001B[31m│\u001B[0m\n\u001B[31m│\u001B[0m   \u001B[2m54 \u001B[0m\u001B[2m│   │   \u001B[0m\u001B[2m# TODO: Consider renaming 'api_address' (breaking backward compatibility)\u001B[0m           \u001B[31m│\u001B[0m\n\u001B[31m│\u001B[0m   \u001B[2m55 \u001B[0m\u001B[2m│   │   \u001B[0m\u001B[94mif\u001B[0m \u001B[33m\"\u001B[0m\u001B[33mapi_address\u001B[0m\u001B[33m\"\u001B[0m \u001B[95mnot\u001B[0m \u001B[95min\u001B[0m token_dict:                                                 \u001B[31m│\u001B[0m\n\u001B[31m│\u001B[0m   \u001B[2m56 \u001B[0m\u001B[2m│   │   │   \u001B[0m\u001B[94mraise\u001B[0m NeptuneInvalidApiTokenException()                                         \u001B[31m│\u001B[0m\n\u001B[31m│\u001B[0m                                                                                                  \u001B[31m│\u001B[0m\n\u001B[31m│\u001B[0m \u001B[33mC:\\Users\\dschr\\anaconda3\\envs\\nlp_torch\\lib\\site-packages\\neptune\\new\\internal\\credentials.py\u001B[0m:\u001B[94m71\u001B[0m \u001B[31m│\u001B[0m\n\u001B[31m│\u001B[0m in \u001B[92m_api_token_to_dict\u001B[0m                                                                            \u001B[31m│\u001B[0m\n\u001B[31m│\u001B[0m                                                                                                  \u001B[31m│\u001B[0m\n\u001B[31m│\u001B[0m   \u001B[2m68 \u001B[0m\u001B[2m│   │   \u001B[0m\u001B[94mtry\u001B[0m:                                                                                \u001B[31m│\u001B[0m\n\u001B[31m│\u001B[0m   \u001B[2m69 \u001B[0m\u001B[2m│   │   │   \u001B[0m\u001B[94mreturn\u001B[0m json.loads(base64.b64decode(api_token.encode()).decode(\u001B[33m\"\u001B[0m\u001B[33mutf-8\u001B[0m\u001B[33m\"\u001B[0m))         \u001B[31m│\u001B[0m\n\u001B[31m│\u001B[0m   \u001B[2m70 \u001B[0m\u001B[2m│   │   \u001B[0m\u001B[94mexcept\u001B[0m \u001B[96mException\u001B[0m:                                                                   \u001B[31m│\u001B[0m\n\u001B[31m│\u001B[0m \u001B[31m❱ \u001B[0m71 \u001B[2m│   │   │   \u001B[0m\u001B[94mraise\u001B[0m NeptuneInvalidApiTokenException()                                         \u001B[31m│\u001B[0m\n\u001B[31m│\u001B[0m   \u001B[2m72 \u001B[0m                                                                                            \u001B[31m│\u001B[0m\n\u001B[31m╰──────────────────────────────────────────────────────────────────────────────────────────────────╯\u001B[0m\n\u001B[1;91mNeptuneInvalidApiTokenException: \u001B[0m\n\n----NeptuneInvalidApiTokenException------------------------------------------------\n\nThe provided API token is invalid.\nMake sure you copied and provided your API token correctly.\n\nYou can get it or check if it is correct here:\n    - \u001B[4;94mhttps://app.neptune.ai/get_my_api_token\u001B[0m\n\nThere are two options to add it:\n    - specify it in your code\n    - set as an environment variable in your operating system.\n\nCODE\nPass the token to the \u001B[1;35minit\u001B[0m\u001B[1m(\u001B[0m\u001B[1m)\u001B[0m method via the api_token argument:\n    \u001B[1;35mneptune.init_run\u001B[0m\u001B[1m(\u001B[0m\u001B[33mproject\u001B[0m=\u001B[32m'WORKSPACE_NAME/PROJECT_NAME'\u001B[0m, \u001B[33mapi_token\u001B[0m=\u001B[32m'YOUR_API_TOKEN'\u001B[0m\u001B[1m)\u001B[0m\n\nENVIRONMENT VARIABLE \u001B[1m(\u001B[0mRecommended option\u001B[1m)\u001B[0m\nor export or set an environment variable depending on your operating system:\n\n    Linux/Unix\n    In your terminal run:\n        export \u001B[33mNEPTUNE_API_TOKEN\u001B[0m=\u001B[32m\"YOUR_API_TOKEN\"\u001B[0m\n\n    Windows\n    In your CMD run:\n        set \u001B[33mNEPTUNE_API_TOKEN\u001B[0m=\u001B[32m\"YOUR_API_TOKEN\"\u001B[0m\n\nand skip the api_token argument of the \u001B[1;35minit\u001B[0m\u001B[1m(\u001B[0m\u001B[1m)\u001B[0m method:\n    \u001B[1;35mneptune.init_run\u001B[0m\u001B[1m(\u001B[0m\u001B[33mproject\u001B[0m=\u001B[32m'WORKSPACE_NAME/PROJECT_NAME'\u001B[0m\u001B[1m)\u001B[0m\n\nYou may also want to check the following docs page:\n    - \u001B[4;94mhttps://docs.neptune.ai/setup/setting_api_token/\u001B[0m\n\nNeed help?-> \u001B[4;94mhttps://docs.neptune.ai/getting_help\u001B[0m\n\n",
      "text/html": "<pre style=\"white-space:pre;overflow-x:auto;line-height:normal;font-family:Menlo,'DejaVu Sans Mono',consolas,'Courier New',monospace\"><span style=\"color: #800000; text-decoration-color: #800000\">╭─────────────────────────────── </span><span style=\"color: #800000; text-decoration-color: #800000; font-weight: bold\">Traceback </span><span style=\"color: #bf7f7f; text-decoration-color: #bf7f7f; font-weight: bold\">(most recent call last)</span><span style=\"color: #800000; text-decoration-color: #800000\"> ────────────────────────────────╮</span>\n<span style=\"color: #800000; text-decoration-color: #800000\">│</span> <span style=\"color: #808000; text-decoration-color: #808000\">C:\\Users\\dschr\\anaconda3\\envs\\nlp_torch\\lib\\site-packages\\neptune\\new\\internal\\credentials.py</span>:<span style=\"color: #0000ff; text-decoration-color: #0000ff\">69</span> <span style=\"color: #800000; text-decoration-color: #800000\">│</span>\n<span style=\"color: #800000; text-decoration-color: #800000\">│</span> in <span style=\"color: #00ff00; text-decoration-color: #00ff00\">_api_token_to_dict</span>                                                                            <span style=\"color: #800000; text-decoration-color: #800000\">│</span>\n<span style=\"color: #800000; text-decoration-color: #800000\">│</span>                                                                                                  <span style=\"color: #800000; text-decoration-color: #800000\">│</span>\n<span style=\"color: #800000; text-decoration-color: #800000\">│</span>   <span style=\"color: #7f7f7f; text-decoration-color: #7f7f7f\">66 │   </span><span style=\"color: #ff00ff; text-decoration-color: #ff00ff; font-weight: bold\">@staticmethod</span>                                                                           <span style=\"color: #800000; text-decoration-color: #800000\">│</span>\n<span style=\"color: #800000; text-decoration-color: #800000\">│</span>   <span style=\"color: #7f7f7f; text-decoration-color: #7f7f7f\">67 │   </span><span style=\"color: #0000ff; text-decoration-color: #0000ff\">def</span> <span style=\"color: #00ff00; text-decoration-color: #00ff00\">_api_token_to_dict</span>(api_token: <span style=\"color: #00ffff; text-decoration-color: #00ffff\">str</span>) -&gt; Dict[<span style=\"color: #00ffff; text-decoration-color: #00ffff\">str</span>, <span style=\"color: #00ffff; text-decoration-color: #00ffff\">str</span>]:                               <span style=\"color: #800000; text-decoration-color: #800000\">│</span>\n<span style=\"color: #800000; text-decoration-color: #800000\">│</span>   <span style=\"color: #7f7f7f; text-decoration-color: #7f7f7f\">68 │   │   </span><span style=\"color: #0000ff; text-decoration-color: #0000ff\">try</span>:                                                                                <span style=\"color: #800000; text-decoration-color: #800000\">│</span>\n<span style=\"color: #800000; text-decoration-color: #800000\">│</span> <span style=\"color: #800000; text-decoration-color: #800000\">❱ </span>69 <span style=\"color: #7f7f7f; text-decoration-color: #7f7f7f\">│   │   │   </span><span style=\"color: #0000ff; text-decoration-color: #0000ff\">return</span> json.loads(base64.b64decode(api_token.encode()).decode(<span style=\"color: #808000; text-decoration-color: #808000\">\"utf-8\"</span>))         <span style=\"color: #800000; text-decoration-color: #800000\">│</span>\n<span style=\"color: #800000; text-decoration-color: #800000\">│</span>   <span style=\"color: #7f7f7f; text-decoration-color: #7f7f7f\">70 │   │   </span><span style=\"color: #0000ff; text-decoration-color: #0000ff\">except</span> <span style=\"color: #00ffff; text-decoration-color: #00ffff\">Exception</span>:                                                                   <span style=\"color: #800000; text-decoration-color: #800000\">│</span>\n<span style=\"color: #800000; text-decoration-color: #800000\">│</span>   <span style=\"color: #7f7f7f; text-decoration-color: #7f7f7f\">71 │   │   │   </span><span style=\"color: #0000ff; text-decoration-color: #0000ff\">raise</span> NeptuneInvalidApiTokenException()                                         <span style=\"color: #800000; text-decoration-color: #800000\">│</span>\n<span style=\"color: #800000; text-decoration-color: #800000\">│</span>   <span style=\"color: #7f7f7f; text-decoration-color: #7f7f7f\">72 </span>                                                                                            <span style=\"color: #800000; text-decoration-color: #800000\">│</span>\n<span style=\"color: #800000; text-decoration-color: #800000\">│</span>                                                                                                  <span style=\"color: #800000; text-decoration-color: #800000\">│</span>\n<span style=\"color: #800000; text-decoration-color: #800000\">│</span> <span style=\"color: #808000; text-decoration-color: #808000\">C:\\Users\\dschr\\anaconda3\\envs\\nlp_torch\\lib\\base64.py</span>:<span style=\"color: #0000ff; text-decoration-color: #0000ff\">87</span> in <span style=\"color: #00ff00; text-decoration-color: #00ff00\">b64decode</span>                            <span style=\"color: #800000; text-decoration-color: #800000\">│</span>\n<span style=\"color: #800000; text-decoration-color: #800000\">│</span>                                                                                                  <span style=\"color: #800000; text-decoration-color: #800000\">│</span>\n<span style=\"color: #800000; text-decoration-color: #800000\">│</span>   <span style=\"color: #7f7f7f; text-decoration-color: #7f7f7f\"> 84 │   │   </span>s = s.translate(<span style=\"color: #00ffff; text-decoration-color: #00ffff\">bytes</span>.maketrans(altchars, <span style=\"color: #808000; text-decoration-color: #808000\">b'+/'</span>))                                  <span style=\"color: #800000; text-decoration-color: #800000\">│</span>\n<span style=\"color: #800000; text-decoration-color: #800000\">│</span>   <span style=\"color: #7f7f7f; text-decoration-color: #7f7f7f\"> 85 │   </span><span style=\"color: #0000ff; text-decoration-color: #0000ff\">if</span> validate <span style=\"color: #ff00ff; text-decoration-color: #ff00ff\">and</span> <span style=\"color: #ff00ff; text-decoration-color: #ff00ff\">not</span> re.fullmatch(<span style=\"color: #808000; text-decoration-color: #808000\">b'[A-Za-z0-9+/]*={0,2}'</span>, s):                          <span style=\"color: #800000; text-decoration-color: #800000\">│</span>\n<span style=\"color: #800000; text-decoration-color: #800000\">│</span>   <span style=\"color: #7f7f7f; text-decoration-color: #7f7f7f\"> 86 │   │   </span><span style=\"color: #0000ff; text-decoration-color: #0000ff\">raise</span> binascii.Error(<span style=\"color: #808000; text-decoration-color: #808000\">'Non-base64 digit found'</span>)                                     <span style=\"color: #800000; text-decoration-color: #800000\">│</span>\n<span style=\"color: #800000; text-decoration-color: #800000\">│</span> <span style=\"color: #800000; text-decoration-color: #800000\">❱ </span> 87 <span style=\"color: #7f7f7f; text-decoration-color: #7f7f7f\">│   </span><span style=\"color: #0000ff; text-decoration-color: #0000ff\">return</span> binascii.a2b_base64(s)                                                          <span style=\"color: #800000; text-decoration-color: #800000\">│</span>\n<span style=\"color: #800000; text-decoration-color: #800000\">│</span>   <span style=\"color: #7f7f7f; text-decoration-color: #7f7f7f\"> 88 </span>                                                                                           <span style=\"color: #800000; text-decoration-color: #800000\">│</span>\n<span style=\"color: #800000; text-decoration-color: #800000\">│</span>   <span style=\"color: #7f7f7f; text-decoration-color: #7f7f7f\"> 89 </span>                                                                                           <span style=\"color: #800000; text-decoration-color: #800000\">│</span>\n<span style=\"color: #800000; text-decoration-color: #800000\">│</span>   <span style=\"color: #7f7f7f; text-decoration-color: #7f7f7f\"> 90 </span><span style=\"color: #0000ff; text-decoration-color: #0000ff\">def</span> <span style=\"color: #00ff00; text-decoration-color: #00ff00\">standard_b64encode</span>(s):                                                                 <span style=\"color: #800000; text-decoration-color: #800000\">│</span>\n<span style=\"color: #800000; text-decoration-color: #800000\">╰──────────────────────────────────────────────────────────────────────────────────────────────────╯</span>\n<span style=\"color: #ff0000; text-decoration-color: #ff0000; font-weight: bold\">Error: </span>Incorrect padding\n\n<span style=\"font-style: italic\">During handling of the above exception, another exception occurred:</span>\n\n<span style=\"color: #800000; text-decoration-color: #800000\">╭─────────────────────────────── </span><span style=\"color: #800000; text-decoration-color: #800000; font-weight: bold\">Traceback </span><span style=\"color: #bf7f7f; text-decoration-color: #bf7f7f; font-weight: bold\">(most recent call last)</span><span style=\"color: #800000; text-decoration-color: #800000\"> ────────────────────────────────╮</span>\n<span style=\"color: #800000; text-decoration-color: #800000\">│</span> <span style=\"color: #808000; text-decoration-color: #808000\">C:\\Users\\dschr\\AppData\\Local\\Temp\\ipykernel_23124\\2013610899.py</span>:<span style=\"color: #0000ff; text-decoration-color: #0000ff\">10</span> in <span style=\"color: #00ff00; text-decoration-color: #00ff00\">&lt;cell line: 10&gt;</span>            <span style=\"color: #800000; text-decoration-color: #800000\">│</span>\n<span style=\"color: #800000; text-decoration-color: #800000\">│</span>                                                                                                  <span style=\"color: #800000; text-decoration-color: #800000\">│</span>\n<span style=\"color: #800000; text-decoration-color: #800000\">│</span> <span style=\"color: #800000; text-decoration-color: #800000; font-style: italic\">[Errno 2] No such file or directory: </span>                                                            <span style=\"color: #800000; text-decoration-color: #800000\">│</span>\n<span style=\"color: #800000; text-decoration-color: #800000\">│</span> <span style=\"color: #800000; text-decoration-color: #800000; font-style: italic\">'C:\\\\Users\\\\dschr\\\\AppData\\\\Local\\\\Temp\\\\ipykernel_23124\\\\2013610899.py'</span>                         <span style=\"color: #800000; text-decoration-color: #800000\">│</span>\n<span style=\"color: #800000; text-decoration-color: #800000\">│</span>                                                                                                  <span style=\"color: #800000; text-decoration-color: #800000\">│</span>\n<span style=\"color: #800000; text-decoration-color: #800000\">│</span> <span style=\"color: #808000; text-decoration-color: #808000\">C:\\Users\\dschr\\anaconda3\\envs\\nlp_torch\\lib\\site-packages\\pytorch_lightning\\utilities\\rank_zero.</span> <span style=\"color: #800000; text-decoration-color: #800000\">│</span>\n<span style=\"color: #800000; text-decoration-color: #800000\">│</span> <span style=\"color: #808000; text-decoration-color: #808000\">py</span>:<span style=\"color: #0000ff; text-decoration-color: #0000ff\">32</span> in <span style=\"color: #00ff00; text-decoration-color: #00ff00\">wrapped_fn</span>                                                                              <span style=\"color: #800000; text-decoration-color: #800000\">│</span>\n<span style=\"color: #800000; text-decoration-color: #800000\">│</span>                                                                                                  <span style=\"color: #800000; text-decoration-color: #800000\">│</span>\n<span style=\"color: #800000; text-decoration-color: #800000\">│</span>   <span style=\"color: #7f7f7f; text-decoration-color: #7f7f7f\"> 29 │   </span><span style=\"color: #ff00ff; text-decoration-color: #ff00ff; font-weight: bold\">@wraps</span>(fn)                                                                             <span style=\"color: #800000; text-decoration-color: #800000\">│</span>\n<span style=\"color: #800000; text-decoration-color: #800000\">│</span>   <span style=\"color: #7f7f7f; text-decoration-color: #7f7f7f\"> 30 │   </span><span style=\"color: #0000ff; text-decoration-color: #0000ff\">def</span> <span style=\"color: #00ff00; text-decoration-color: #00ff00\">wrapped_fn</span>(*args: Any, **kwargs: Any) -&gt; Optional[Any]:                            <span style=\"color: #800000; text-decoration-color: #800000\">│</span>\n<span style=\"color: #800000; text-decoration-color: #800000\">│</span>   <span style=\"color: #7f7f7f; text-decoration-color: #7f7f7f\"> 31 │   │   </span><span style=\"color: #0000ff; text-decoration-color: #0000ff\">if</span> rank_zero_only.rank == <span style=\"color: #0000ff; text-decoration-color: #0000ff\">0</span>:                                                       <span style=\"color: #800000; text-decoration-color: #800000\">│</span>\n<span style=\"color: #800000; text-decoration-color: #800000\">│</span> <span style=\"color: #800000; text-decoration-color: #800000\">❱ </span> 32 <span style=\"color: #7f7f7f; text-decoration-color: #7f7f7f\">│   │   │   </span><span style=\"color: #0000ff; text-decoration-color: #0000ff\">return</span> fn(*args, **kwargs)                                                     <span style=\"color: #800000; text-decoration-color: #800000\">│</span>\n<span style=\"color: #800000; text-decoration-color: #800000\">│</span>   <span style=\"color: #7f7f7f; text-decoration-color: #7f7f7f\"> 33 │   │   </span><span style=\"color: #0000ff; text-decoration-color: #0000ff\">return</span> <span style=\"color: #0000ff; text-decoration-color: #0000ff\">None</span>                                                                        <span style=\"color: #800000; text-decoration-color: #800000\">│</span>\n<span style=\"color: #800000; text-decoration-color: #800000\">│</span>   <span style=\"color: #7f7f7f; text-decoration-color: #7f7f7f\"> 34 │   </span>                                                                                       <span style=\"color: #800000; text-decoration-color: #800000\">│</span>\n<span style=\"color: #800000; text-decoration-color: #800000\">│</span>   <span style=\"color: #7f7f7f; text-decoration-color: #7f7f7f\"> 35 │   </span><span style=\"color: #0000ff; text-decoration-color: #0000ff\">return</span> wrapped_fn                                                                      <span style=\"color: #800000; text-decoration-color: #800000\">│</span>\n<span style=\"color: #800000; text-decoration-color: #800000\">│</span>                                                                                                  <span style=\"color: #800000; text-decoration-color: #800000\">│</span>\n<span style=\"color: #800000; text-decoration-color: #800000\">│</span> <span style=\"color: #808000; text-decoration-color: #808000\">C:\\Users\\dschr\\anaconda3\\envs\\nlp_torch\\lib\\site-packages\\pytorch_lightning\\loggers\\neptune.py</span>:<span style=\"color: #0000ff; text-decoration-color: #0000ff\">4</span> <span style=\"color: #800000; text-decoration-color: #800000\">│</span>\n<span style=\"color: #800000; text-decoration-color: #800000\">│</span> <span style=\"color: #0000ff; text-decoration-color: #0000ff\">91</span> in <span style=\"color: #00ff00; text-decoration-color: #00ff00\">log_hyperparams</span>                                                                            <span style=\"color: #800000; text-decoration-color: #800000\">│</span>\n<span style=\"color: #800000; text-decoration-color: #800000\">│</span>                                                                                                  <span style=\"color: #800000; text-decoration-color: #800000\">│</span>\n<span style=\"color: #800000; text-decoration-color: #800000\">│</span>   <span style=\"color: #7f7f7f; text-decoration-color: #7f7f7f\">488 │   │   </span>parameters_key = <span style=\"color: #00ffff; text-decoration-color: #00ffff\">self</span>.PARAMETERS_KEY                                               <span style=\"color: #800000; text-decoration-color: #800000\">│</span>\n<span style=\"color: #800000; text-decoration-color: #800000\">│</span>   <span style=\"color: #7f7f7f; text-decoration-color: #7f7f7f\">489 │   │   </span>parameters_key = <span style=\"color: #00ffff; text-decoration-color: #00ffff\">self</span>._construct_path_with_prefix(parameters_key)                  <span style=\"color: #800000; text-decoration-color: #800000\">│</span>\n<span style=\"color: #800000; text-decoration-color: #800000\">│</span>   <span style=\"color: #7f7f7f; text-decoration-color: #7f7f7f\">490 │   │   </span>                                                                                   <span style=\"color: #800000; text-decoration-color: #800000\">│</span>\n<span style=\"color: #800000; text-decoration-color: #800000\">│</span> <span style=\"color: #800000; text-decoration-color: #800000\">❱ </span>491 <span style=\"color: #7f7f7f; text-decoration-color: #7f7f7f\">│   │   </span><span style=\"color: #00ffff; text-decoration-color: #00ffff\">self</span>.run[parameters_key] = params                                                  <span style=\"color: #800000; text-decoration-color: #800000\">│</span>\n<span style=\"color: #800000; text-decoration-color: #800000\">│</span>   <span style=\"color: #7f7f7f; text-decoration-color: #7f7f7f\">492 │   </span>                                                                                       <span style=\"color: #800000; text-decoration-color: #800000\">│</span>\n<span style=\"color: #800000; text-decoration-color: #800000\">│</span>   <span style=\"color: #7f7f7f; text-decoration-color: #7f7f7f\">493 │   </span><span style=\"color: #ff00ff; text-decoration-color: #ff00ff; font-weight: bold\">@rank_zero_only</span>                                                                        <span style=\"color: #800000; text-decoration-color: #800000\">│</span>\n<span style=\"color: #800000; text-decoration-color: #800000\">│</span>   <span style=\"color: #7f7f7f; text-decoration-color: #7f7f7f\">494 │   </span><span style=\"color: #0000ff; text-decoration-color: #0000ff\">def</span> <span style=\"color: #00ff00; text-decoration-color: #00ff00\">log_metrics</span>(<span style=\"color: #00ffff; text-decoration-color: #00ffff\">self</span>, metrics: Dict[<span style=\"color: #00ffff; text-decoration-color: #00ffff\">str</span>, Union[torch.Tensor, <span style=\"color: #00ffff; text-decoration-color: #00ffff\">float</span>]], step: Optional   <span style=\"color: #800000; text-decoration-color: #800000\">│</span>\n<span style=\"color: #800000; text-decoration-color: #800000\">│</span>                                                                                                  <span style=\"color: #800000; text-decoration-color: #800000\">│</span>\n<span style=\"color: #800000; text-decoration-color: #800000\">│</span> <span style=\"color: #808000; text-decoration-color: #808000\">C:\\Users\\dschr\\anaconda3\\envs\\nlp_torch\\lib\\site-packages\\pytorch_lightning\\loggers\\base.py</span>:<span style=\"color: #0000ff; text-decoration-color: #0000ff\">41</span>   <span style=\"color: #800000; text-decoration-color: #800000\">│</span>\n<span style=\"color: #800000; text-decoration-color: #800000\">│</span> in <span style=\"color: #00ff00; text-decoration-color: #00ff00\">experiment</span>                                                                                    <span style=\"color: #800000; text-decoration-color: #800000\">│</span>\n<span style=\"color: #800000; text-decoration-color: #800000\">│</span>                                                                                                  <span style=\"color: #800000; text-decoration-color: #800000\">│</span>\n<span style=\"color: #800000; text-decoration-color: #800000\">│</span>   <span style=\"color: #7f7f7f; text-decoration-color: #7f7f7f\"> 38 │   │   </span><span style=\"color: #0000ff; text-decoration-color: #0000ff\">def</span> <span style=\"color: #00ff00; text-decoration-color: #00ff00\">get_experiment</span>():                                                              <span style=\"color: #800000; text-decoration-color: #800000\">│</span>\n<span style=\"color: #800000; text-decoration-color: #800000\">│</span>   <span style=\"color: #7f7f7f; text-decoration-color: #7f7f7f\"> 39 │   │   │   </span><span style=\"color: #0000ff; text-decoration-color: #0000ff\">return</span> fn(<span style=\"color: #00ffff; text-decoration-color: #00ffff\">self</span>)                                                                <span style=\"color: #800000; text-decoration-color: #800000\">│</span>\n<span style=\"color: #800000; text-decoration-color: #800000\">│</span>   <span style=\"color: #7f7f7f; text-decoration-color: #7f7f7f\"> 40 │   │   </span>                                                                                   <span style=\"color: #800000; text-decoration-color: #800000\">│</span>\n<span style=\"color: #800000; text-decoration-color: #800000\">│</span> <span style=\"color: #800000; text-decoration-color: #800000\">❱ </span> 41 <span style=\"color: #7f7f7f; text-decoration-color: #7f7f7f\">│   │   </span><span style=\"color: #0000ff; text-decoration-color: #0000ff\">return</span> get_experiment() <span style=\"color: #ff00ff; text-decoration-color: #ff00ff\">or</span> DummyExperiment()                                       <span style=\"color: #800000; text-decoration-color: #800000\">│</span>\n<span style=\"color: #800000; text-decoration-color: #800000\">│</span>   <span style=\"color: #7f7f7f; text-decoration-color: #7f7f7f\"> 42 │   </span>                                                                                       <span style=\"color: #800000; text-decoration-color: #800000\">│</span>\n<span style=\"color: #800000; text-decoration-color: #800000\">│</span>   <span style=\"color: #7f7f7f; text-decoration-color: #7f7f7f\"> 43 │   </span><span style=\"color: #0000ff; text-decoration-color: #0000ff\">return</span> experiment                                                                      <span style=\"color: #800000; text-decoration-color: #800000\">│</span>\n<span style=\"color: #800000; text-decoration-color: #800000\">│</span>   <span style=\"color: #7f7f7f; text-decoration-color: #7f7f7f\"> 44 </span>                                                                                           <span style=\"color: #800000; text-decoration-color: #800000\">│</span>\n<span style=\"color: #800000; text-decoration-color: #800000\">│</span>                                                                                                  <span style=\"color: #800000; text-decoration-color: #800000\">│</span>\n<span style=\"color: #800000; text-decoration-color: #800000\">│</span> <span style=\"color: #808000; text-decoration-color: #808000\">C:\\Users\\dschr\\anaconda3\\envs\\nlp_torch\\lib\\site-packages\\pytorch_lightning\\utilities\\rank_zero.</span> <span style=\"color: #800000; text-decoration-color: #800000\">│</span>\n<span style=\"color: #800000; text-decoration-color: #800000\">│</span> <span style=\"color: #808000; text-decoration-color: #808000\">py</span>:<span style=\"color: #0000ff; text-decoration-color: #0000ff\">32</span> in <span style=\"color: #00ff00; text-decoration-color: #00ff00\">wrapped_fn</span>                                                                              <span style=\"color: #800000; text-decoration-color: #800000\">│</span>\n<span style=\"color: #800000; text-decoration-color: #800000\">│</span>                                                                                                  <span style=\"color: #800000; text-decoration-color: #800000\">│</span>\n<span style=\"color: #800000; text-decoration-color: #800000\">│</span>   <span style=\"color: #7f7f7f; text-decoration-color: #7f7f7f\"> 29 │   </span><span style=\"color: #ff00ff; text-decoration-color: #ff00ff; font-weight: bold\">@wraps</span>(fn)                                                                             <span style=\"color: #800000; text-decoration-color: #800000\">│</span>\n<span style=\"color: #800000; text-decoration-color: #800000\">│</span>   <span style=\"color: #7f7f7f; text-decoration-color: #7f7f7f\"> 30 │   </span><span style=\"color: #0000ff; text-decoration-color: #0000ff\">def</span> <span style=\"color: #00ff00; text-decoration-color: #00ff00\">wrapped_fn</span>(*args: Any, **kwargs: Any) -&gt; Optional[Any]:                            <span style=\"color: #800000; text-decoration-color: #800000\">│</span>\n<span style=\"color: #800000; text-decoration-color: #800000\">│</span>   <span style=\"color: #7f7f7f; text-decoration-color: #7f7f7f\"> 31 │   │   </span><span style=\"color: #0000ff; text-decoration-color: #0000ff\">if</span> rank_zero_only.rank == <span style=\"color: #0000ff; text-decoration-color: #0000ff\">0</span>:                                                       <span style=\"color: #800000; text-decoration-color: #800000\">│</span>\n<span style=\"color: #800000; text-decoration-color: #800000\">│</span> <span style=\"color: #800000; text-decoration-color: #800000\">❱ </span> 32 <span style=\"color: #7f7f7f; text-decoration-color: #7f7f7f\">│   │   │   </span><span style=\"color: #0000ff; text-decoration-color: #0000ff\">return</span> fn(*args, **kwargs)                                                     <span style=\"color: #800000; text-decoration-color: #800000\">│</span>\n<span style=\"color: #800000; text-decoration-color: #800000\">│</span>   <span style=\"color: #7f7f7f; text-decoration-color: #7f7f7f\"> 33 │   │   </span><span style=\"color: #0000ff; text-decoration-color: #0000ff\">return</span> <span style=\"color: #0000ff; text-decoration-color: #0000ff\">None</span>                                                                        <span style=\"color: #800000; text-decoration-color: #800000\">│</span>\n<span style=\"color: #800000; text-decoration-color: #800000\">│</span>   <span style=\"color: #7f7f7f; text-decoration-color: #7f7f7f\"> 34 │   </span>                                                                                       <span style=\"color: #800000; text-decoration-color: #800000\">│</span>\n<span style=\"color: #800000; text-decoration-color: #800000\">│</span>   <span style=\"color: #7f7f7f; text-decoration-color: #7f7f7f\"> 35 │   </span><span style=\"color: #0000ff; text-decoration-color: #0000ff\">return</span> wrapped_fn                                                                      <span style=\"color: #800000; text-decoration-color: #800000\">│</span>\n<span style=\"color: #800000; text-decoration-color: #800000\">│</span>                                                                                                  <span style=\"color: #800000; text-decoration-color: #800000\">│</span>\n<span style=\"color: #800000; text-decoration-color: #800000\">│</span> <span style=\"color: #808000; text-decoration-color: #808000\">C:\\Users\\dschr\\anaconda3\\envs\\nlp_torch\\lib\\site-packages\\pytorch_lightning\\loggers\\base.py</span>:<span style=\"color: #0000ff; text-decoration-color: #0000ff\">39</span>   <span style=\"color: #800000; text-decoration-color: #800000\">│</span>\n<span style=\"color: #800000; text-decoration-color: #800000\">│</span> in <span style=\"color: #00ff00; text-decoration-color: #00ff00\">get_experiment</span>                                                                                <span style=\"color: #800000; text-decoration-color: #800000\">│</span>\n<span style=\"color: #800000; text-decoration-color: #800000\">│</span>                                                                                                  <span style=\"color: #800000; text-decoration-color: #800000\">│</span>\n<span style=\"color: #800000; text-decoration-color: #800000\">│</span>   <span style=\"color: #7f7f7f; text-decoration-color: #7f7f7f\"> 36 │   </span><span style=\"color: #0000ff; text-decoration-color: #0000ff\">def</span> <span style=\"color: #00ff00; text-decoration-color: #00ff00\">experiment</span>(<span style=\"color: #00ffff; text-decoration-color: #00ffff\">self</span>):                                                                  <span style=\"color: #800000; text-decoration-color: #800000\">│</span>\n<span style=\"color: #800000; text-decoration-color: #800000\">│</span>   <span style=\"color: #7f7f7f; text-decoration-color: #7f7f7f\"> 37 │   │   </span><span style=\"color: #ff00ff; text-decoration-color: #ff00ff; font-weight: bold\">@rank_zero_only</span>                                                                    <span style=\"color: #800000; text-decoration-color: #800000\">│</span>\n<span style=\"color: #800000; text-decoration-color: #800000\">│</span>   <span style=\"color: #7f7f7f; text-decoration-color: #7f7f7f\"> 38 │   │   </span><span style=\"color: #0000ff; text-decoration-color: #0000ff\">def</span> <span style=\"color: #00ff00; text-decoration-color: #00ff00\">get_experiment</span>():                                                              <span style=\"color: #800000; text-decoration-color: #800000\">│</span>\n<span style=\"color: #800000; text-decoration-color: #800000\">│</span> <span style=\"color: #800000; text-decoration-color: #800000\">❱ </span> 39 <span style=\"color: #7f7f7f; text-decoration-color: #7f7f7f\">│   │   │   </span><span style=\"color: #0000ff; text-decoration-color: #0000ff\">return</span> fn(<span style=\"color: #00ffff; text-decoration-color: #00ffff\">self</span>)                                                                <span style=\"color: #800000; text-decoration-color: #800000\">│</span>\n<span style=\"color: #800000; text-decoration-color: #800000\">│</span>   <span style=\"color: #7f7f7f; text-decoration-color: #7f7f7f\"> 40 │   │   </span>                                                                                   <span style=\"color: #800000; text-decoration-color: #800000\">│</span>\n<span style=\"color: #800000; text-decoration-color: #800000\">│</span>   <span style=\"color: #7f7f7f; text-decoration-color: #7f7f7f\"> 41 │   │   </span><span style=\"color: #0000ff; text-decoration-color: #0000ff\">return</span> get_experiment() <span style=\"color: #ff00ff; text-decoration-color: #ff00ff\">or</span> DummyExperiment()                                       <span style=\"color: #800000; text-decoration-color: #800000\">│</span>\n<span style=\"color: #800000; text-decoration-color: #800000\">│</span>   <span style=\"color: #7f7f7f; text-decoration-color: #7f7f7f\"> 42 </span>                                                                                           <span style=\"color: #800000; text-decoration-color: #800000\">│</span>\n<span style=\"color: #800000; text-decoration-color: #800000\">│</span>                                                                                                  <span style=\"color: #800000; text-decoration-color: #800000\">│</span>\n<span style=\"color: #800000; text-decoration-color: #800000\">│</span> <span style=\"color: #808000; text-decoration-color: #808000\">C:\\Users\\dschr\\anaconda3\\envs\\nlp_torch\\lib\\site-packages\\pytorch_lightning\\loggers\\neptune.py</span>:<span style=\"color: #0000ff; text-decoration-color: #0000ff\">4</span> <span style=\"color: #800000; text-decoration-color: #800000\">│</span>\n<span style=\"color: #800000; text-decoration-color: #800000\">│</span> <span style=\"color: #0000ff; text-decoration-color: #0000ff\">36</span> in <span style=\"color: #00ff00; text-decoration-color: #00ff00\">run</span>                                                                                        <span style=\"color: #800000; text-decoration-color: #800000\">│</span>\n<span style=\"color: #800000; text-decoration-color: #800000\">│</span>                                                                                                  <span style=\"color: #800000; text-decoration-color: #800000\">│</span>\n<span style=\"color: #800000; text-decoration-color: #800000\">│</span>   <span style=\"color: #7f7f7f; text-decoration-color: #7f7f7f\">433 │   </span><span style=\"color: #0000ff; text-decoration-color: #0000ff\">def</span> <span style=\"color: #00ff00; text-decoration-color: #00ff00\">run</span>(<span style=\"color: #00ffff; text-decoration-color: #00ffff\">self</span>) -&gt; Run:                                                                  <span style=\"color: #800000; text-decoration-color: #800000\">│</span>\n<span style=\"color: #800000; text-decoration-color: #800000\">│</span>   <span style=\"color: #7f7f7f; text-decoration-color: #7f7f7f\">434 │   │   </span><span style=\"color: #0000ff; text-decoration-color: #0000ff\">try</span>:                                                                               <span style=\"color: #800000; text-decoration-color: #800000\">│</span>\n<span style=\"color: #800000; text-decoration-color: #800000\">│</span>   <span style=\"color: #7f7f7f; text-decoration-color: #7f7f7f\">435 │   │   │   </span><span style=\"color: #0000ff; text-decoration-color: #0000ff\">if</span> <span style=\"color: #ff00ff; text-decoration-color: #ff00ff\">not</span> <span style=\"color: #00ffff; text-decoration-color: #00ffff\">self</span>._run_instance:                                                     <span style=\"color: #800000; text-decoration-color: #800000\">│</span>\n<span style=\"color: #800000; text-decoration-color: #800000\">│</span> <span style=\"color: #800000; text-decoration-color: #800000\">❱ </span>436 <span style=\"color: #7f7f7f; text-decoration-color: #7f7f7f\">│   │   │   │   </span><span style=\"color: #00ffff; text-decoration-color: #00ffff\">self</span>._run_instance = neptune.init(**<span style=\"color: #00ffff; text-decoration-color: #00ffff\">self</span>._neptune_init_args)               <span style=\"color: #800000; text-decoration-color: #800000\">│</span>\n<span style=\"color: #800000; text-decoration-color: #800000\">│</span>   <span style=\"color: #7f7f7f; text-decoration-color: #7f7f7f\">437 │   │   │   │   </span><span style=\"color: #00ffff; text-decoration-color: #00ffff\">self</span>._retrieve_run_data()                                                  <span style=\"color: #800000; text-decoration-color: #800000\">│</span>\n<span style=\"color: #800000; text-decoration-color: #800000\">│</span>   <span style=\"color: #7f7f7f; text-decoration-color: #7f7f7f\">438 │   │   │   │   # make sure that we've log integration version for newly created</span>           <span style=\"color: #800000; text-decoration-color: #800000\">│</span>\n<span style=\"color: #800000; text-decoration-color: #800000\">│</span>   <span style=\"color: #7f7f7f; text-decoration-color: #7f7f7f\">439 │   │   │   │   </span><span style=\"color: #00ffff; text-decoration-color: #00ffff\">self</span>._run_instance[_INTEGRATION_VERSION_KEY] = __version__                 <span style=\"color: #800000; text-decoration-color: #800000\">│</span>\n<span style=\"color: #800000; text-decoration-color: #800000\">│</span>                                                                                                  <span style=\"color: #800000; text-decoration-color: #800000\">│</span>\n<span style=\"color: #800000; text-decoration-color: #800000\">│</span> <span style=\"color: #808000; text-decoration-color: #808000\">C:\\Users\\dschr\\anaconda3\\envs\\nlp_torch\\lib\\site-packages\\neptune\\new\\internal\\utils\\deprecation</span> <span style=\"color: #800000; text-decoration-color: #800000\">│</span>\n<span style=\"color: #800000; text-decoration-color: #800000\">│</span> <span style=\"color: #808000; text-decoration-color: #808000\">.py</span>:<span style=\"color: #0000ff; text-decoration-color: #0000ff\">37</span> in <span style=\"color: #00ff00; text-decoration-color: #00ff00\">inner</span>                                                                                  <span style=\"color: #800000; text-decoration-color: #800000\">│</span>\n<span style=\"color: #800000; text-decoration-color: #800000\">│</span>                                                                                                  <span style=\"color: #800000; text-decoration-color: #800000\">│</span>\n<span style=\"color: #800000; text-decoration-color: #800000\">│</span>   <span style=\"color: #7f7f7f; text-decoration-color: #7f7f7f\">34 │   │   │   │   </span>stack_level=stack_level + <span style=\"color: #0000ff; text-decoration-color: #0000ff\">1</span>,                                                <span style=\"color: #800000; text-decoration-color: #800000\">│</span>\n<span style=\"color: #800000; text-decoration-color: #800000\">│</span>   <span style=\"color: #7f7f7f; text-decoration-color: #7f7f7f\">35 │   │   │   </span>)                                                                               <span style=\"color: #800000; text-decoration-color: #800000\">│</span>\n<span style=\"color: #800000; text-decoration-color: #800000\">│</span>   <span style=\"color: #7f7f7f; text-decoration-color: #7f7f7f\">36 │   │   │   </span>                                                                                <span style=\"color: #800000; text-decoration-color: #800000\">│</span>\n<span style=\"color: #800000; text-decoration-color: #800000\">│</span> <span style=\"color: #800000; text-decoration-color: #800000\">❱ </span>37 <span style=\"color: #7f7f7f; text-decoration-color: #7f7f7f\">│   │   │   </span><span style=\"color: #0000ff; text-decoration-color: #0000ff\">return</span> func(*args, **kwargs)                                                    <span style=\"color: #800000; text-decoration-color: #800000\">│</span>\n<span style=\"color: #800000; text-decoration-color: #800000\">│</span>   <span style=\"color: #7f7f7f; text-decoration-color: #7f7f7f\">38 │   │   </span>                                                                                    <span style=\"color: #800000; text-decoration-color: #800000\">│</span>\n<span style=\"color: #800000; text-decoration-color: #800000\">│</span>   <span style=\"color: #7f7f7f; text-decoration-color: #7f7f7f\">39 │   │   </span><span style=\"color: #0000ff; text-decoration-color: #0000ff\">return</span> inner                                                                        <span style=\"color: #800000; text-decoration-color: #800000\">│</span>\n<span style=\"color: #800000; text-decoration-color: #800000\">│</span>   <span style=\"color: #7f7f7f; text-decoration-color: #7f7f7f\">40 </span>                                                                                            <span style=\"color: #800000; text-decoration-color: #800000\">│</span>\n<span style=\"color: #800000; text-decoration-color: #800000\">│</span>                                                                                                  <span style=\"color: #800000; text-decoration-color: #800000\">│</span>\n<span style=\"color: #800000; text-decoration-color: #800000\">│</span> <span style=\"color: #808000; text-decoration-color: #808000\">C:\\Users\\dschr\\anaconda3\\envs\\nlp_torch\\lib\\site-packages\\neptune\\new\\internal\\init\\__init__.py</span>: <span style=\"color: #800000; text-decoration-color: #800000\">│</span>\n<span style=\"color: #800000; text-decoration-color: #800000\">│</span> <span style=\"color: #0000ff; text-decoration-color: #0000ff\">43</span> in <span style=\"color: #00ff00; text-decoration-color: #00ff00\">init</span>                                                                                       <span style=\"color: #800000; text-decoration-color: #800000\">│</span>\n<span style=\"color: #800000; text-decoration-color: #800000\">│</span>                                                                                                  <span style=\"color: #800000; text-decoration-color: #800000\">│</span>\n<span style=\"color: #800000; text-decoration-color: #800000\">│</span>   <span style=\"color: #7f7f7f; text-decoration-color: #7f7f7f\">40 </span>                                                                                            <span style=\"color: #800000; text-decoration-color: #800000\">│</span>\n<span style=\"color: #800000; text-decoration-color: #800000\">│</span>   <span style=\"color: #7f7f7f; text-decoration-color: #7f7f7f\">41 </span><span style=\"color: #ff00ff; text-decoration-color: #ff00ff; font-weight: bold\">@deprecated</span>(alternative=<span style=\"color: #808000; text-decoration-color: #808000\">\"init_run\"</span>)                                                         <span style=\"color: #800000; text-decoration-color: #800000\">│</span>\n<span style=\"color: #800000; text-decoration-color: #800000\">│</span>   <span style=\"color: #7f7f7f; text-decoration-color: #7f7f7f\">42 </span><span style=\"color: #0000ff; text-decoration-color: #0000ff\">def</span> <span style=\"color: #00ff00; text-decoration-color: #00ff00\">init</span>(*args, **kwargs):                                                                  <span style=\"color: #800000; text-decoration-color: #800000\">│</span>\n<span style=\"color: #800000; text-decoration-color: #800000\">│</span> <span style=\"color: #800000; text-decoration-color: #800000\">❱ </span>43 <span style=\"color: #7f7f7f; text-decoration-color: #7f7f7f\">│   </span><span style=\"color: #0000ff; text-decoration-color: #0000ff\">return</span> init_run(*args, **kwargs)                                                        <span style=\"color: #800000; text-decoration-color: #800000\">│</span>\n<span style=\"color: #800000; text-decoration-color: #800000\">│</span>   <span style=\"color: #7f7f7f; text-decoration-color: #7f7f7f\">44 </span>                                                                                            <span style=\"color: #800000; text-decoration-color: #800000\">│</span>\n<span style=\"color: #800000; text-decoration-color: #800000\">│</span>                                                                                                  <span style=\"color: #800000; text-decoration-color: #800000\">│</span>\n<span style=\"color: #800000; text-decoration-color: #800000\">│</span> <span style=\"color: #808000; text-decoration-color: #808000\">C:\\Users\\dschr\\anaconda3\\envs\\nlp_torch\\lib\\site-packages\\neptune\\new\\internal\\utils\\deprecation</span> <span style=\"color: #800000; text-decoration-color: #800000\">│</span>\n<span style=\"color: #800000; text-decoration-color: #800000\">│</span> <span style=\"color: #808000; text-decoration-color: #808000\">.py</span>:<span style=\"color: #0000ff; text-decoration-color: #0000ff\">61</span> in <span style=\"color: #00ff00; text-decoration-color: #00ff00\">inner</span>                                                                                  <span style=\"color: #800000; text-decoration-color: #800000\">│</span>\n<span style=\"color: #800000; text-decoration-color: #800000\">│</span>                                                                                                  <span style=\"color: #800000; text-decoration-color: #800000\">│</span>\n<span style=\"color: #800000; text-decoration-color: #800000\">│</span>   <span style=\"color: #7f7f7f; text-decoration-color: #7f7f7f\">58 │   │   │   │   </span>kwargs[required_kwarg_name] = kwargs[deprecated_kwarg_name]                 <span style=\"color: #800000; text-decoration-color: #800000\">│</span>\n<span style=\"color: #800000; text-decoration-color: #800000\">│</span>   <span style=\"color: #7f7f7f; text-decoration-color: #7f7f7f\">59 │   │   │   │   </span><span style=\"color: #0000ff; text-decoration-color: #0000ff\">del</span> kwargs[deprecated_kwarg_name]                                           <span style=\"color: #800000; text-decoration-color: #800000\">│</span>\n<span style=\"color: #800000; text-decoration-color: #800000\">│</span>   <span style=\"color: #7f7f7f; text-decoration-color: #7f7f7f\">60 │   │   │   </span>                                                                                <span style=\"color: #800000; text-decoration-color: #800000\">│</span>\n<span style=\"color: #800000; text-decoration-color: #800000\">│</span> <span style=\"color: #800000; text-decoration-color: #800000\">❱ </span>61 <span style=\"color: #7f7f7f; text-decoration-color: #7f7f7f\">│   │   │   </span><span style=\"color: #0000ff; text-decoration-color: #0000ff\">return</span> f(*args, **kwargs)                                                       <span style=\"color: #800000; text-decoration-color: #800000\">│</span>\n<span style=\"color: #800000; text-decoration-color: #800000\">│</span>   <span style=\"color: #7f7f7f; text-decoration-color: #7f7f7f\">62 │   │   </span>                                                                                    <span style=\"color: #800000; text-decoration-color: #800000\">│</span>\n<span style=\"color: #800000; text-decoration-color: #800000\">│</span>   <span style=\"color: #7f7f7f; text-decoration-color: #7f7f7f\">63 │   │   </span><span style=\"color: #0000ff; text-decoration-color: #0000ff\">return</span> inner                                                                        <span style=\"color: #800000; text-decoration-color: #800000\">│</span>\n<span style=\"color: #800000; text-decoration-color: #800000\">│</span>   <span style=\"color: #7f7f7f; text-decoration-color: #7f7f7f\">64 </span>                                                                                            <span style=\"color: #800000; text-decoration-color: #800000\">│</span>\n<span style=\"color: #800000; text-decoration-color: #800000\">│</span>                                                                                                  <span style=\"color: #800000; text-decoration-color: #800000\">│</span>\n<span style=\"color: #800000; text-decoration-color: #800000\">│</span> <span style=\"color: #808000; text-decoration-color: #808000\">C:\\Users\\dschr\\anaconda3\\envs\\nlp_torch\\lib\\site-packages\\neptune\\new\\internal\\init\\run.py</span>:<span style=\"color: #0000ff; text-decoration-color: #0000ff\">250</span>   <span style=\"color: #800000; text-decoration-color: #800000\">│</span>\n<span style=\"color: #800000; text-decoration-color: #800000\">│</span> in <span style=\"color: #00ff00; text-decoration-color: #00ff00\">init_run</span>                                                                                      <span style=\"color: #800000; text-decoration-color: #800000\">│</span>\n<span style=\"color: #800000; text-decoration-color: #800000\">│</span>                                                                                                  <span style=\"color: #800000; text-decoration-color: #800000\">│</span>\n<span style=\"color: #800000; text-decoration-color: #800000\">│</span>   <span style=\"color: #7f7f7f; text-decoration-color: #7f7f7f\">247 │   </span><span style=\"color: #0000ff; text-decoration-color: #0000ff\">if</span> with_id <span style=\"color: #ff00ff; text-decoration-color: #ff00ff\">and</span> custom_run_id:                                                          <span style=\"color: #800000; text-decoration-color: #800000\">│</span>\n<span style=\"color: #800000; text-decoration-color: #800000\">│</span>   <span style=\"color: #7f7f7f; text-decoration-color: #7f7f7f\">248 │   │   </span><span style=\"color: #0000ff; text-decoration-color: #0000ff\">raise</span> NeptuneRunResumeAndCustomIdCollision()                                       <span style=\"color: #800000; text-decoration-color: #800000\">│</span>\n<span style=\"color: #800000; text-decoration-color: #800000\">│</span>   <span style=\"color: #7f7f7f; text-decoration-color: #7f7f7f\">249 │   </span>                                                                                       <span style=\"color: #800000; text-decoration-color: #800000\">│</span>\n<span style=\"color: #800000; text-decoration-color: #800000\">│</span> <span style=\"color: #800000; text-decoration-color: #800000\">❱ </span>250 <span style=\"color: #7f7f7f; text-decoration-color: #7f7f7f\">│   </span>backend = get_backend(mode=mode, api_token=api_token, proxies=proxies)                 <span style=\"color: #800000; text-decoration-color: #800000\">│</span>\n<span style=\"color: #800000; text-decoration-color: #800000\">│</span>   <span style=\"color: #7f7f7f; text-decoration-color: #7f7f7f\">251 │   </span>                                                                                       <span style=\"color: #800000; text-decoration-color: #800000\">│</span>\n<span style=\"color: #800000; text-decoration-color: #800000\">│</span>   <span style=\"color: #7f7f7f; text-decoration-color: #7f7f7f\">252 │   </span><span style=\"color: #0000ff; text-decoration-color: #0000ff\">if</span> mode == Mode.OFFLINE <span style=\"color: #ff00ff; text-decoration-color: #ff00ff\">or</span> mode == Mode.DEBUG:                                         <span style=\"color: #800000; text-decoration-color: #800000\">│</span>\n<span style=\"color: #800000; text-decoration-color: #800000\">│</span>   <span style=\"color: #7f7f7f; text-decoration-color: #7f7f7f\">253 │   │   </span>project = OFFLINE_PROJECT_QUALIFIED_NAME                                           <span style=\"color: #800000; text-decoration-color: #800000\">│</span>\n<span style=\"color: #800000; text-decoration-color: #800000\">│</span>                                                                                                  <span style=\"color: #800000; text-decoration-color: #800000\">│</span>\n<span style=\"color: #800000; text-decoration-color: #800000\">│</span> <span style=\"color: #808000; text-decoration-color: #808000\">C:\\Users\\dschr\\anaconda3\\envs\\nlp_torch\\lib\\site-packages\\neptune\\new\\internal\\backends\\factory.</span> <span style=\"color: #800000; text-decoration-color: #800000\">│</span>\n<span style=\"color: #800000; text-decoration-color: #800000\">│</span> <span style=\"color: #808000; text-decoration-color: #808000\">py</span>:<span style=\"color: #0000ff; text-decoration-color: #0000ff\">30</span> in <span style=\"color: #00ff00; text-decoration-color: #00ff00\">get_backend</span>                                                                             <span style=\"color: #800000; text-decoration-color: #800000\">│</span>\n<span style=\"color: #800000; text-decoration-color: #800000\">│</span>                                                                                                  <span style=\"color: #800000; text-decoration-color: #800000\">│</span>\n<span style=\"color: #800000; text-decoration-color: #800000\">│</span>   <span style=\"color: #7f7f7f; text-decoration-color: #7f7f7f\">27 </span>                                                                                            <span style=\"color: #800000; text-decoration-color: #800000\">│</span>\n<span style=\"color: #800000; text-decoration-color: #800000\">│</span>   <span style=\"color: #7f7f7f; text-decoration-color: #7f7f7f\">28 </span><span style=\"color: #0000ff; text-decoration-color: #0000ff\">def</span> <span style=\"color: #00ff00; text-decoration-color: #00ff00\">get_backend</span>(mode: Mode, api_token: Optional[<span style=\"color: #00ffff; text-decoration-color: #00ffff\">str</span>] = <span style=\"color: #0000ff; text-decoration-color: #0000ff\">None</span>, proxies: Optional[<span style=\"color: #00ffff; text-decoration-color: #00ffff\">dict</span>] = <span style=\"color: #0000ff; text-decoration-color: #0000ff\">N</span>    <span style=\"color: #800000; text-decoration-color: #800000\">│</span>\n<span style=\"color: #800000; text-decoration-color: #800000\">│</span>   <span style=\"color: #7f7f7f; text-decoration-color: #7f7f7f\">29 │   </span><span style=\"color: #0000ff; text-decoration-color: #0000ff\">if</span> mode == Mode.ASYNC:                                                                  <span style=\"color: #800000; text-decoration-color: #800000\">│</span>\n<span style=\"color: #800000; text-decoration-color: #800000\">│</span> <span style=\"color: #800000; text-decoration-color: #800000\">❱ </span>30 <span style=\"color: #7f7f7f; text-decoration-color: #7f7f7f\">│   │   </span><span style=\"color: #0000ff; text-decoration-color: #0000ff\">return</span> HostedNeptuneBackend(credentials=Credentials.from_token(api_token=api_tok    <span style=\"color: #800000; text-decoration-color: #800000\">│</span>\n<span style=\"color: #800000; text-decoration-color: #800000\">│</span>   <span style=\"color: #7f7f7f; text-decoration-color: #7f7f7f\">31 │   </span><span style=\"color: #0000ff; text-decoration-color: #0000ff\">elif</span> mode == Mode.SYNC:                                                                 <span style=\"color: #800000; text-decoration-color: #800000\">│</span>\n<span style=\"color: #800000; text-decoration-color: #800000\">│</span>   <span style=\"color: #7f7f7f; text-decoration-color: #7f7f7f\">32 │   │   </span><span style=\"color: #0000ff; text-decoration-color: #0000ff\">return</span> HostedNeptuneBackend(credentials=Credentials.from_token(api_token=api_tok    <span style=\"color: #800000; text-decoration-color: #800000\">│</span>\n<span style=\"color: #800000; text-decoration-color: #800000\">│</span>   <span style=\"color: #7f7f7f; text-decoration-color: #7f7f7f\">33 │   </span><span style=\"color: #0000ff; text-decoration-color: #0000ff\">elif</span> mode == Mode.DEBUG:                                                                <span style=\"color: #800000; text-decoration-color: #800000\">│</span>\n<span style=\"color: #800000; text-decoration-color: #800000\">│</span>                                                                                                  <span style=\"color: #800000; text-decoration-color: #800000\">│</span>\n<span style=\"color: #800000; text-decoration-color: #800000\">│</span> <span style=\"color: #808000; text-decoration-color: #808000\">C:\\Users\\dschr\\anaconda3\\envs\\nlp_torch\\lib\\site-packages\\neptune\\new\\internal\\credentials.py</span>:<span style=\"color: #0000ff; text-decoration-color: #0000ff\">53</span> <span style=\"color: #800000; text-decoration-color: #800000\">│</span>\n<span style=\"color: #800000; text-decoration-color: #800000\">│</span> in <span style=\"color: #00ff00; text-decoration-color: #00ff00\">from_token</span>                                                                                    <span style=\"color: #800000; text-decoration-color: #800000\">│</span>\n<span style=\"color: #800000; text-decoration-color: #800000\">│</span>                                                                                                  <span style=\"color: #800000; text-decoration-color: #800000\">│</span>\n<span style=\"color: #800000; text-decoration-color: #800000\">│</span>   <span style=\"color: #7f7f7f; text-decoration-color: #7f7f7f\">50 │   │   │   </span><span style=\"color: #0000ff; text-decoration-color: #0000ff\">raise</span> NeptuneMissingApiTokenException()                                         <span style=\"color: #800000; text-decoration-color: #800000\">│</span>\n<span style=\"color: #800000; text-decoration-color: #800000\">│</span>   <span style=\"color: #7f7f7f; text-decoration-color: #7f7f7f\">51 │   │   </span>                                                                                    <span style=\"color: #800000; text-decoration-color: #800000\">│</span>\n<span style=\"color: #800000; text-decoration-color: #800000\">│</span>   <span style=\"color: #7f7f7f; text-decoration-color: #7f7f7f\">52 │   │   </span>api_token = api_token.strip()                                                       <span style=\"color: #800000; text-decoration-color: #800000\">│</span>\n<span style=\"color: #800000; text-decoration-color: #800000\">│</span> <span style=\"color: #800000; text-decoration-color: #800000\">❱ </span>53 <span style=\"color: #7f7f7f; text-decoration-color: #7f7f7f\">│   │   </span>token_dict = Credentials._api_token_to_dict(api_token)                              <span style=\"color: #800000; text-decoration-color: #800000\">│</span>\n<span style=\"color: #800000; text-decoration-color: #800000\">│</span>   <span style=\"color: #7f7f7f; text-decoration-color: #7f7f7f\">54 │   │   # TODO: Consider renaming 'api_address' (breaking backward compatibility)</span>           <span style=\"color: #800000; text-decoration-color: #800000\">│</span>\n<span style=\"color: #800000; text-decoration-color: #800000\">│</span>   <span style=\"color: #7f7f7f; text-decoration-color: #7f7f7f\">55 │   │   </span><span style=\"color: #0000ff; text-decoration-color: #0000ff\">if</span> <span style=\"color: #808000; text-decoration-color: #808000\">\"api_address\"</span> <span style=\"color: #ff00ff; text-decoration-color: #ff00ff\">not</span> <span style=\"color: #ff00ff; text-decoration-color: #ff00ff\">in</span> token_dict:                                                 <span style=\"color: #800000; text-decoration-color: #800000\">│</span>\n<span style=\"color: #800000; text-decoration-color: #800000\">│</span>   <span style=\"color: #7f7f7f; text-decoration-color: #7f7f7f\">56 │   │   │   </span><span style=\"color: #0000ff; text-decoration-color: #0000ff\">raise</span> NeptuneInvalidApiTokenException()                                         <span style=\"color: #800000; text-decoration-color: #800000\">│</span>\n<span style=\"color: #800000; text-decoration-color: #800000\">│</span>                                                                                                  <span style=\"color: #800000; text-decoration-color: #800000\">│</span>\n<span style=\"color: #800000; text-decoration-color: #800000\">│</span> <span style=\"color: #808000; text-decoration-color: #808000\">C:\\Users\\dschr\\anaconda3\\envs\\nlp_torch\\lib\\site-packages\\neptune\\new\\internal\\credentials.py</span>:<span style=\"color: #0000ff; text-decoration-color: #0000ff\">71</span> <span style=\"color: #800000; text-decoration-color: #800000\">│</span>\n<span style=\"color: #800000; text-decoration-color: #800000\">│</span> in <span style=\"color: #00ff00; text-decoration-color: #00ff00\">_api_token_to_dict</span>                                                                            <span style=\"color: #800000; text-decoration-color: #800000\">│</span>\n<span style=\"color: #800000; text-decoration-color: #800000\">│</span>                                                                                                  <span style=\"color: #800000; text-decoration-color: #800000\">│</span>\n<span style=\"color: #800000; text-decoration-color: #800000\">│</span>   <span style=\"color: #7f7f7f; text-decoration-color: #7f7f7f\">68 │   │   </span><span style=\"color: #0000ff; text-decoration-color: #0000ff\">try</span>:                                                                                <span style=\"color: #800000; text-decoration-color: #800000\">│</span>\n<span style=\"color: #800000; text-decoration-color: #800000\">│</span>   <span style=\"color: #7f7f7f; text-decoration-color: #7f7f7f\">69 │   │   │   </span><span style=\"color: #0000ff; text-decoration-color: #0000ff\">return</span> json.loads(base64.b64decode(api_token.encode()).decode(<span style=\"color: #808000; text-decoration-color: #808000\">\"utf-8\"</span>))         <span style=\"color: #800000; text-decoration-color: #800000\">│</span>\n<span style=\"color: #800000; text-decoration-color: #800000\">│</span>   <span style=\"color: #7f7f7f; text-decoration-color: #7f7f7f\">70 │   │   </span><span style=\"color: #0000ff; text-decoration-color: #0000ff\">except</span> <span style=\"color: #00ffff; text-decoration-color: #00ffff\">Exception</span>:                                                                   <span style=\"color: #800000; text-decoration-color: #800000\">│</span>\n<span style=\"color: #800000; text-decoration-color: #800000\">│</span> <span style=\"color: #800000; text-decoration-color: #800000\">❱ </span>71 <span style=\"color: #7f7f7f; text-decoration-color: #7f7f7f\">│   │   │   </span><span style=\"color: #0000ff; text-decoration-color: #0000ff\">raise</span> NeptuneInvalidApiTokenException()                                         <span style=\"color: #800000; text-decoration-color: #800000\">│</span>\n<span style=\"color: #800000; text-decoration-color: #800000\">│</span>   <span style=\"color: #7f7f7f; text-decoration-color: #7f7f7f\">72 </span>                                                                                            <span style=\"color: #800000; text-decoration-color: #800000\">│</span>\n<span style=\"color: #800000; text-decoration-color: #800000\">╰──────────────────────────────────────────────────────────────────────────────────────────────────╯</span>\n<span style=\"color: #ff0000; text-decoration-color: #ff0000; font-weight: bold\">NeptuneInvalidApiTokenException: </span>\n\n----NeptuneInvalidApiTokenException------------------------------------------------\n\nThe provided API token is invalid.\nMake sure you copied and provided your API token correctly.\n\nYou can get it or check if it is correct here:\n    - <span style=\"color: #0000ff; text-decoration-color: #0000ff; text-decoration: underline\">https://app.neptune.ai/get_my_api_token</span>\n\nThere are two options to add it:\n    - specify it in your code\n    - set as an environment variable in your operating system.\n\nCODE\nPass the token to the <span style=\"color: #800080; text-decoration-color: #800080; font-weight: bold\">init</span><span style=\"font-weight: bold\">()</span> method via the api_token argument:\n    <span style=\"color: #800080; text-decoration-color: #800080; font-weight: bold\">neptune.init_run</span><span style=\"font-weight: bold\">(</span><span style=\"color: #808000; text-decoration-color: #808000\">project</span>=<span style=\"color: #008000; text-decoration-color: #008000\">'WORKSPACE_NAME/PROJECT_NAME'</span>, <span style=\"color: #808000; text-decoration-color: #808000\">api_token</span>=<span style=\"color: #008000; text-decoration-color: #008000\">'YOUR_API_TOKEN'</span><span style=\"font-weight: bold\">)</span>\n\nENVIRONMENT VARIABLE <span style=\"font-weight: bold\">(</span>Recommended option<span style=\"font-weight: bold\">)</span>\nor export or set an environment variable depending on your operating system:\n\n    Linux/Unix\n    In your terminal run:\n        export <span style=\"color: #808000; text-decoration-color: #808000\">NEPTUNE_API_TOKEN</span>=<span style=\"color: #008000; text-decoration-color: #008000\">\"YOUR_API_TOKEN\"</span>\n\n    Windows\n    In your CMD run:\n        set <span style=\"color: #808000; text-decoration-color: #808000\">NEPTUNE_API_TOKEN</span>=<span style=\"color: #008000; text-decoration-color: #008000\">\"YOUR_API_TOKEN\"</span>\n\nand skip the api_token argument of the <span style=\"color: #800080; text-decoration-color: #800080; font-weight: bold\">init</span><span style=\"font-weight: bold\">()</span> method:\n    <span style=\"color: #800080; text-decoration-color: #800080; font-weight: bold\">neptune.init_run</span><span style=\"font-weight: bold\">(</span><span style=\"color: #808000; text-decoration-color: #808000\">project</span>=<span style=\"color: #008000; text-decoration-color: #008000\">'WORKSPACE_NAME/PROJECT_NAME'</span><span style=\"font-weight: bold\">)</span>\n\nYou may also want to check the following docs page:\n    - <span style=\"color: #0000ff; text-decoration-color: #0000ff; text-decoration: underline\">https://docs.neptune.ai/setup/setting_api_token/</span>\n\nNeed help?-&gt; <span style=\"color: #0000ff; text-decoration-color: #0000ff; text-decoration: underline\">https://docs.neptune.ai/getting_help</span>\n\n</pre>\n"
     },
     "metadata": {},
     "output_type": "display_data"
    }
   ],
   "source": [
    "# Optional: Log Experiments to Neptune\n",
    "\n",
    "neptune_logger = NeptuneLogger(\n",
    "    project=\"Your Project ID\", #\n",
    "    api_key=\"Your API KEY\", #\n",
    "    name=NAME,\n",
    "    tags=[f\"{PARAMS['MODEL_PATH']}\",f\"BS-{PARAMS['BATCH_SIZE']}\",f\"LR-{PARAMS['LR']}\",f\"LR-{PARAMS['HIDDEN_LAYERS']}\"],\n",
    "    log_model_checkpoints=False\n",
    ")\n",
    "neptune_logger.log_hyperparams(PARAMS)\n",
    "\n",
    "neptune_logger.experiment[\"train_size\"].log(len(train_df))\n",
    "neptune_logger.experiment[\"val_size\"].log(len(val_df))\n",
    "RUN_ID = neptune_logger._run_short_id"
   ]
  },
  {
   "cell_type": "markdown",
   "metadata": {},
   "source": [
    "### Add Callbacks and create Pytorch Lightning Trainer"
   ]
  },
  {
   "cell_type": "code",
   "execution_count": 16,
   "outputs": [
    {
     "name": "stderr",
     "output_type": "stream",
     "text": [
      "GPU available: True, used: True\n",
      "TPU available: False, using: 0 TPU cores\n",
      "IPU available: False, using: 0 IPUs\n",
      "HPU available: False, using: 0 HPUs\n",
      "Running in fast_dev_run mode: will run a full train, val, test and prediction loop using 1 batch(es).\n",
      "`Trainer(limit_train_batches=1)` was configured so 1 batch per epoch will be used.\n",
      "`Trainer(limit_val_batches=1)` was configured so 1 batch will be used.\n",
      "`Trainer(limit_test_batches=1)` was configured so 1 batch will be used.\n",
      "`Trainer(limit_predict_batches=1)` was configured so 1 batch will be used.\n",
      "`Trainer(val_check_interval=1.0)` was configured so validation will run at the end of the training epoch..\n"
     ]
    }
   ],
   "source": [
    "checkpoint_callback = ModelCheckpoint(\n",
    "    dirpath=\"checkpoints\",\n",
    "    filename= (f\"{RUN_ID}-{NAME}\" if RUN_ID else f\"{NAME}\"),\n",
    "    save_top_k=1,\n",
    "    verbose=True,\n",
    "    monitor=PARAMS[\"EARLY_STOPPING_METRIC\"],\n",
    "    mode=PARAMS[\"EARLY_STOPPING_MODE\"]\n",
    ")\n",
    "early_stopping_callback = EarlyStopping(monitor=PARAMS[\"EARLY_STOPPING_METRIC\"], patience=PARAMS[\"PATIENCE\"], mode=PARAMS[\"EARLY_STOPPING_MODE\"])\n",
    "\n",
    "trainer = pl.Trainer(\n",
    "    logger=([neptune_logger] if RUN_ID else []),\n",
    "    callbacks=[checkpoint_callback, early_stopping_callback],\n",
    "    max_epochs=PARAMS[\"EPOCHS\"],\n",
    "    fast_dev_run=True,\n",
    "    accelerator=\"gpu\",\n",
    "    devices=1,\n",
    "    enable_progress_bar=True,\n",
    "    val_check_interval=PARAMS[\"VAL_CHECK_INTERVAL\"],\n",
    "    accumulate_grad_batches=PARAMS[\"ACCUMULATE_GRAD_BATCHES\"],\n",
    ")"
   ],
   "metadata": {
    "collapsed": false
   }
  },
  {
   "cell_type": "code",
   "execution_count": 17,
   "outputs": [
    {
     "name": "stderr",
     "output_type": "stream",
     "text": [
      "C:\\Users\\dschr\\anaconda3\\envs\\nlp_torch\\lib\\site-packages\\pytorch_lightning\\callbacks\\model_checkpoint.py:611: UserWarning: Checkpoint directory C:\\Users\\dschr\\DataspellProjects\\human_value_detector\\checkpoints exists and is not empty.\n",
      "  rank_zero_warn(f\"Checkpoint directory {dirpath} exists and is not empty.\")\n",
      "LOCAL_RANK: 0 - CUDA_VISIBLE_DEVICES: [0]\n",
      "\n",
      "  | Name          | Type              | Params\n",
      "----------------------------------------------------\n",
      "0 | bert          | RobertaModel      | 124 M \n",
      "1 | hidden_layers | ModuleList        | 0     \n",
      "2 | classifier    | Linear            | 15.4 K\n",
      "3 | criterion     | BCEWithLogitsLoss | 0     \n",
      "----------------------------------------------------\n",
      "124 M     Trainable params\n",
      "0         Non-trainable params\n",
      "124 M     Total params\n",
      "498.644   Total estimated model params size (MB)\n"
     ]
    },
    {
     "data": {
      "text/plain": "Training: 0it [00:00, ?it/s]",
      "application/vnd.jupyter.widget-view+json": {
       "version_major": 2,
       "version_minor": 0,
       "model_id": "fe0808361f504562bed400142a37d4a2"
      }
     },
     "metadata": {},
     "output_type": "display_data"
    },
    {
     "data": {
      "text/plain": "Validation: 0it [00:00, ?it/s]",
      "application/vnd.jupyter.widget-view+json": {
       "version_major": 2,
       "version_minor": 0,
       "model_id": "9db05f0b77dc4277866bf0f10b05b66e"
      }
     },
     "metadata": {},
     "output_type": "display_data"
    },
    {
     "name": "stderr",
     "output_type": "stream",
     "text": [
      "C:\\Users\\dschr\\anaconda3\\envs\\nlp_torch\\lib\\site-packages\\torchmetrics\\utilities\\prints.py:36: UserWarning: No positive samples in targets, true positive value should be meaningless. Returning zero tensor in true positive score\n",
      "  warnings.warn(*args, **kwargs)\n"
     ]
    }
   ],
   "source": [
    "trainer.fit(model, data_module)"
   ],
   "metadata": {
    "collapsed": false
   }
  },
  {
   "cell_type": "code",
   "execution_count": 18,
   "outputs": [],
   "source": [
    "if RUN_ID:\n",
    "    with open(f\"./checkpoints/{RUN_ID}_PARAMS.pkl\", 'wb') as f:\n",
    "        pickle.dump(PARAMS, f)\n",
    "else:\n",
    "    with open(f\"./checkpoints/{NAME}_PARAMS.pkl\", 'wb') as f:\n",
    "        pickle.dump(PARAMS, f)"
   ],
   "metadata": {
    "collapsed": false
   }
  },
  {
   "cell_type": "code",
   "execution_count": null,
   "outputs": [],
   "source": [
    "# If Logging (optional)\n",
    "neptune_logger.experiment[\"best_model_checkpoint\"].log(trainer.checkpoint_callback.best_model_path)\n",
    "neptune_logger.log_model_summary(model=model, max_depth=-1)"
   ],
   "metadata": {
    "collapsed": false
   }
  },
  {
   "cell_type": "markdown",
   "source": [
    "Now we are done with the training. This process is repeated with several different configurations for the model. More information can be found in the system description paper."
   ],
   "metadata": {
    "collapsed": false
   }
  },
  {
   "cell_type": "markdown",
   "source": [
    "# Evaluation\n",
    "\n",
    "The predictions for the final submissions are done based on an ensemble.\n",
    "Hence for ensembling, please continue with the ensemble_eval_and_predict.ipynb notebook.\n",
    "However, for simplicity or if you are interested, you may want to continue here to evaluate the model performance.\n",
    "\n",
    "1. We determine the decision threshold to decide when a certain label should be counted as 1, based on the val_data\n",
    "2. We predict the test_data with it (if splitted above)"
   ],
   "metadata": {
    "collapsed": false
   }
  },
  {
   "cell_type": "markdown",
   "source": [
    "We load the model from the best_checkpoint in order to get the model that performed best with respect to the early stopping metric."
   ],
   "metadata": {
    "collapsed": false
   }
  },
  {
   "cell_type": "code",
   "execution_count": null,
   "outputs": [],
   "source": [
    "trained_model = BertFineTunerPl.load_from_checkpoint(\n",
    "    trainer.checkpoint_callback.best_model_path,\n",
    "    params=PARAMS,\n",
    "    label_columns=LABEL_COLUMNS,\n",
    "    n_classes=len(LABEL_COLUMNS)\n",
    ")\n",
    "\n",
    "trained_model.eval()\n",
    "trained_model.freeze()"
   ],
   "metadata": {
    "collapsed": false
   }
  },
  {
   "cell_type": "markdown",
   "source": [
    "We get the predictions for the val_df."
   ],
   "metadata": {
    "collapsed": false
   }
  },
  {
   "cell_type": "code",
   "execution_count": 65,
   "outputs": [
    {
     "data": {
      "text/plain": "  0%|          | 0/500 [00:00<?, ?it/s]",
      "application/vnd.jupyter.widget-view+json": {
       "version_major": 2,
       "version_minor": 0,
       "model_id": "5a3e04f3307d49b9bb126199c8beac4c"
      }
     },
     "metadata": {},
     "output_type": "display_data"
    }
   ],
   "source": [
    "device = torch.device('cuda' if torch.cuda.is_available() else 'cpu')\n",
    "trained_model = trained_model.to(device)\n",
    "\n",
    "val_dataset = BertDataset(\n",
    "    val_df,\n",
    "    tokenizer=TOKENIZER,\n",
    "    max_token_count=PARAMS[\"MAX_TOKEN_COUNT\"],\n",
    "    label_columns=LABEL_COLUMNS\n",
    ")\n",
    "\n",
    "predictions = []\n",
    "labels = []\n",
    "\n",
    "for item in tqdm(val_dataset):\n",
    "    _, prediction = trained_model(\n",
    "        item[\"input_ids\"].unsqueeze(dim=0).to(device),\n",
    "        item[\"attention_mask\"].unsqueeze(dim=0).to(device)\n",
    "    )\n",
    "    predictions.append(prediction.flatten())\n",
    "    labels.append(item[\"labels\"].int())\n"
   ],
   "metadata": {
    "collapsed": false
   }
  },
  {
   "cell_type": "markdown",
   "source": [
    "Select optimal Threshold on Val Dataset"
   ],
   "metadata": {
    "collapsed": false
   }
  },
  {
   "cell_type": "code",
   "execution_count": 67,
   "outputs": [],
   "source": [
    "predictions = torch.stack(predictions).detach().cpu()\n",
    "labels = torch.stack(labels).detach().cpu()"
   ],
   "metadata": {
    "collapsed": false
   }
  },
  {
   "cell_type": "code",
   "execution_count": 72,
   "outputs": [],
   "source": [
    "from toolbox.bert_utils import max_for_thres"
   ],
   "metadata": {
    "collapsed": false
   }
  },
  {
   "cell_type": "code",
   "execution_count": 73,
   "outputs": [],
   "source": [
    "THRESHOLD = max_for_thres(y_pred=predictions, y_true=labels, label_columns=LABEL_COLUMNS, average=PARAMS[\"MAX_THRESHOLD_METRIC\"])"
   ],
   "metadata": {
    "collapsed": false
   }
  },
  {
   "cell_type": "markdown",
   "source": [
    "Alternatively if you just one to load a model from checkpoint"
   ],
   "metadata": {
    "collapsed": false
   }
  },
  {
   "cell_type": "code",
   "execution_count": 21,
   "outputs": [
    {
     "name": "stderr",
     "output_type": "stream",
     "text": [
      "Some weights of the model checkpoint at microsoft/deberta-large were not used when initializing DebertaModel: ['lm_predictions.lm_head.LayerNorm.weight', 'lm_predictions.lm_head.dense.bias', 'lm_predictions.lm_head.dense.weight', 'lm_predictions.lm_head.LayerNorm.bias', 'lm_predictions.lm_head.bias']\n",
      "- This IS expected if you are initializing DebertaModel from the checkpoint of a model trained on another task or with another architecture (e.g. initializing a BertForSequenceClassification model from a BertForPreTraining model).\n",
      "- This IS NOT expected if you are initializing DebertaModel from the checkpoint of a model that you expect to be exactly identical (initializing a BertForSequenceClassification model from a BertForSequenceClassification model).\n"
     ]
    }
   ],
   "source": [
    "with open(f'./checkpoints/HCV-409_PARAMS.pkl', 'rb') as f:\n",
    "    loaded_dict = pickle.load(f)\n",
    "    PARAMS = loaded_dict\n",
    "\n",
    "trained_model = BertFineTunerPl.load_from_checkpoint(\n",
    "    \"./checkpoints/HCV-409-microsoft-deberta-large-BS_8-LR_2e-05-HL_None-DROPOUT_None-SL_None.ckpt\",\n",
    "    params=PARAMS,\n",
    "    label_columns=LABEL_COLUMNS,\n",
    "    n_classes=len(LABEL_COLUMNS)\n",
    ")\n",
    "\n",
    "trained_model.eval()\n",
    "trained_model.freeze()\n",
    "\n",
    "THRESHOLD = 0.25"
   ],
   "metadata": {
    "collapsed": false
   }
  },
  {
   "cell_type": "markdown",
   "source": [
    "binarize the predictions with the optimal threshold"
   ],
   "metadata": {
    "collapsed": false
   }
  },
  {
   "cell_type": "code",
   "execution_count": null,
   "outputs": [],
   "source": [
    "y_pred = predictions.numpy()\n",
    "y_true = labels.numpy()\n",
    "\n",
    "upper, lower = 1, 0\n",
    "\n",
    "y_pred = np.where(y_pred > THRESHOLD, upper, lower)"
   ],
   "metadata": {
    "collapsed": false
   }
  },
  {
   "cell_type": "code",
   "execution_count": null,
   "outputs": [],
   "source": [
    "print(f\"Threshold: {THRESHOLD}\")\n",
    "print(classification_report(\n",
    "    y_true,\n",
    "    y_pred,\n",
    "    target_names=LABEL_COLUMNS,\n",
    "    zero_division=0,\n",
    "))\n",
    "\n",
    "class_rep = classification_report(\n",
    "    y_true,\n",
    "    y_pred,\n",
    "    target_names=LABEL_COLUMNS,\n",
    "    zero_division=0,\n",
    "    output_dict=True\n",
    ")"
   ],
   "metadata": {
    "collapsed": false
   }
  },
  {
   "cell_type": "markdown",
   "source": [
    "# Use Threshold to predict on Test Data\n",
    "If we want to predict on the test-data (if you have split it apart, alternatively you could use the leave-out-dataset). For a single Model."
   ],
   "metadata": {
    "collapsed": false
   }
  },
  {
   "cell_type": "code",
   "execution_count": 22,
   "outputs": [],
   "source": [
    "test_df = leave_out_df"
   ],
   "metadata": {
    "collapsed": false
   }
  },
  {
   "cell_type": "code",
   "execution_count": 23,
   "outputs": [
    {
     "data": {
      "text/plain": "  0%|          | 0/300 [00:00<?, ?it/s]",
      "application/vnd.jupyter.widget-view+json": {
       "version_major": 2,
       "version_minor": 0,
       "model_id": "a6b17a8ac0b8487bbcdad3c40149bf39"
      }
     },
     "metadata": {},
     "output_type": "display_data"
    }
   ],
   "source": [
    "device = torch.device('cuda' if torch.cuda.is_available() else 'cpu')\n",
    "trained_model = trained_model.to(device)\n",
    "\n",
    "test_dataset = BertDataset(\n",
    "    test_df,\n",
    "    tokenizer=TOKENIZER,\n",
    "    max_token_count=PARAMS[\"MAX_TOKEN_COUNT\"],\n",
    "    label_columns=LABEL_COLUMNS\n",
    ")\n",
    "\n",
    "predictions = []\n",
    "labels = []\n",
    "\n",
    "for item in tqdm(test_dataset):\n",
    "    _, prediction = trained_model(\n",
    "        item[\"input_ids\"].unsqueeze(dim=0).to(device),\n",
    "        item[\"attention_mask\"].unsqueeze(dim=0).to(device)\n",
    "    )\n",
    "    predictions.append(prediction.flatten())\n",
    "    labels.append(item[\"labels\"].int())\n",
    "\n",
    "\n",
    "predictions = torch.stack(predictions).detach().cpu()\n",
    "labels = torch.stack(labels).detach().cpu()\n",
    "\n",
    "\n",
    "y_pred = predictions.numpy()\n",
    "y_true = labels.numpy()\n"
   ],
   "metadata": {
    "collapsed": false
   }
  },
  {
   "cell_type": "markdown",
   "source": [
    "###  Binarize the model predictions with Threshold\n"
   ],
   "metadata": {
    "collapsed": false
   }
  },
  {
   "cell_type": "code",
   "execution_count": 24,
   "outputs": [],
   "source": [
    "upper, lower = 1, 0\n",
    "\n",
    "y_pred = np.where(y_pred > THRESHOLD, upper, lower)"
   ],
   "metadata": {
    "collapsed": false
   }
  },
  {
   "cell_type": "code",
   "execution_count": 25,
   "outputs": [
    {
     "name": "stdout",
     "output_type": "stream",
     "text": [
      "Threshold: 0.25\n",
      "                            precision    recall  f1-score   support\n",
      "\n",
      "   Self-direction: thought       0.41      0.92      0.57        49\n",
      "    Self-direction: action       0.69      0.89      0.78        75\n",
      "               Stimulation       0.19      0.64      0.29        14\n",
      "                  Hedonism       0.20      1.00      0.33         5\n",
      "               Achievement       0.74      0.92      0.82        86\n",
      "          Power: dominance       0.39      0.91      0.55        33\n",
      "          Power: resources       0.50      1.00      0.67        26\n",
      "                      Face       0.24      0.56      0.34        25\n",
      "        Security: personal       0.71      0.95      0.81       103\n",
      "        Security: societal       0.69      0.94      0.80        85\n",
      "                 Tradition       0.54      1.00      0.70        31\n",
      "         Conformity: rules       0.75      0.91      0.82        81\n",
      " Conformity: interpersonal       0.33      0.82      0.47        11\n",
      "                  Humility       0.37      1.00      0.54        13\n",
      "       Benevolence: caring       0.43      0.91      0.59        74\n",
      "Benevolence: dependability       0.34      0.71      0.46        42\n",
      "     Universalism: concern       0.66      0.94      0.77       125\n",
      "      Universalism: nature       0.50      0.88      0.64        17\n",
      "   Universalism: tolerance       0.25      0.65      0.36        34\n",
      " Universalism: objectivity       0.48      0.84      0.61        61\n",
      "\n",
      "                 micro avg       0.52      0.89      0.66       990\n",
      "                 macro avg       0.47      0.87      0.60       990\n",
      "              weighted avg       0.57      0.89      0.68       990\n",
      "               samples avg       0.56      0.91      0.66       990\n",
      "\n"
     ]
    }
   ],
   "source": [
    "print(f\"Threshold: {THRESHOLD}\")\n",
    "print(classification_report(\n",
    "    y_true,\n",
    "    y_pred,\n",
    "    target_names=LABEL_COLUMNS,\n",
    "    zero_division=0,\n",
    "))\n",
    "\n",
    "class_rep = classification_report(\n",
    "    y_true,\n",
    "    y_pred,\n",
    "    target_names=LABEL_COLUMNS,\n",
    "    zero_division=0,\n",
    "    output_dict=True\n",
    ")"
   ],
   "metadata": {
    "collapsed": false
   }
  },
  {
   "cell_type": "code",
   "execution_count": null,
   "outputs": [],
   "source": [
    "#Logging Optional\n",
    "neptune_logger.experiment[f\"threshold_selected_for_f1_custom_val_opt\"].log(THRESHOLD)\n",
    "\n",
    "for k in class_rep:\n",
    "    neptune_logger.experiment[f\"{k}_precision/Test\"].log(class_rep[k][\"precision\"])\n",
    "    neptune_logger.experiment[f\"{k}_recall/Test\"].log(class_rep[k][\"recall\"])\n",
    "    neptune_logger.experiment[f\"{k}_f1-score/Test\"].log(class_rep[k][\"f1-score\"])\n",
    "    neptune_logger.experiment[f\"{k}_support/Test\"].log(class_rep[k][\"support\"])"
   ],
   "metadata": {
    "collapsed": false
   }
  },
  {
   "cell_type": "code",
   "execution_count": null,
   "outputs": [],
   "source": [
    "# Calculate f1-Score"
   ],
   "metadata": {
    "collapsed": false
   }
  },
  {
   "cell_type": "code",
   "execution_count": 26,
   "outputs": [
    {
     "name": "stdout",
     "output_type": "stream",
     "text": [
      "0.6105788216966658\n"
     ]
    }
   ],
   "source": [
    "test_custom_f1 = -1\n",
    "test_macro_recall = class_rep[\"macro avg\"][\"recall\"]\n",
    "test_macro_precision = class_rep[\"macro avg\"][\"precision\"]\n",
    "if (test_macro_precision + test_macro_recall) != 0:\n",
    "    test_custom_f1 = (2*test_macro_recall*test_macro_precision/(test_macro_recall+test_macro_precision))\n",
    "else:\n",
    "    test_custom_f1 = 0\n",
    "print(test_custom_f1)"
   ],
   "metadata": {
    "collapsed": false
   }
  },
  {
   "cell_type": "code",
   "execution_count": 27,
   "outputs": [],
   "source": [
    "# Optionally Log\n",
    "\n",
    "for i, name in enumerate(LABEL_COLUMNS):\n",
    "    auroc = AUROC(task=\"binary\")\n",
    "    class_roc_auc = auroc(predictions[:, i], labels[:, i])\n",
    "    # neptune_logger.experiment[f\"{name}_roc_auc/Test\"].log(class_roc_auc)\n",
    "\n",
    "auroc = AUROC(task=\"multilabel\", num_labels=len(LABEL_COLUMNS), average=\"micro\")\n",
    "total_auroc_micro = auroc(predictions, labels)\n",
    "\n",
    "auroc = AUROC(task=\"multilabel\", num_labels=len(LABEL_COLUMNS), average=\"macro\")\n",
    "total_auroc_macro = auroc(predictions, labels)"
   ],
   "metadata": {
    "collapsed": false
   }
  },
  {
   "cell_type": "code",
   "execution_count": null,
   "outputs": [],
   "source": [
    "# Log Metrics Optionally\n",
    "neptune_logger.experiment[f\"custom_f1/Test\"].log(test_custom_f1)\n",
    "neptune_logger.experiment[f\"roc_auc_total_macro/Test\"].log(total_auroc_macro)\n",
    "neptune_logger.experiment[f\"roc_auc_total_micro/Test\"].log(total_auroc_micro)\n",
    "neptune_logger.experiment.stop()"
   ],
   "metadata": {
    "collapsed": false
   }
  },
  {
   "cell_type": "markdown",
   "metadata": {
    "id": "hFvqzK4Ua-16"
   },
   "source": [
    "\n"
   ]
  },
  {
   "cell_type": "markdown",
   "metadata": {},
   "source": [
    "## Creating Submission File\n",
    "Creating the submission file for one Model for the competition. (Note that the submitted systems are ensembles (ensemble_eval_and_predict.ipynb)"
   ]
  },
  {
   "cell_type": "code",
   "execution_count": 29,
   "metadata": {},
   "outputs": [],
   "source": [
    "test_df_input = pd.read_csv('./data/arguments-test.tsv', sep='\\t')"
   ]
  },
  {
   "cell_type": "code",
   "execution_count": 30,
   "metadata": {},
   "outputs": [
    {
     "data": {
      "text/plain": "  Argument ID                          Conclusion       Stance  \\\n0      A26004    We should end affirmative action      against   \n1      A26010    We should end affirmative action  in favor of   \n2      A26016           We should ban naturopathy  in favor of   \n3      A26024  We should prohibit women in combat  in favor of   \n4      A26026           We should ban naturopathy  in favor of   \n\n                                             Premise  \\\n0   affirmative action helps with employment equity.   \n1  affirmative action can be considered discrimin...   \n2  naturopathy is very dangerous for the most vul...   \n3  women shouldn't be in combat because they aren...   \n4  once eradicated illnesses are returning due to...   \n\n                                                text  \n0  affirmative action helps with employment equit...  \n1  affirmative action can be considered discrimin...  \n2  naturopathy is very dangerous for the most vul...  \n3  women shouldn't be in combat because they aren...  \n4  once eradicated illnesses are returning due to...  ",
      "text/html": "<div>\n<style scoped>\n    .dataframe tbody tr th:only-of-type {\n        vertical-align: middle;\n    }\n\n    .dataframe tbody tr th {\n        vertical-align: top;\n    }\n\n    .dataframe thead th {\n        text-align: right;\n    }\n</style>\n<table border=\"1\" class=\"dataframe\">\n  <thead>\n    <tr style=\"text-align: right;\">\n      <th></th>\n      <th>Argument ID</th>\n      <th>Conclusion</th>\n      <th>Stance</th>\n      <th>Premise</th>\n      <th>text</th>\n    </tr>\n  </thead>\n  <tbody>\n    <tr>\n      <th>0</th>\n      <td>A26004</td>\n      <td>We should end affirmative action</td>\n      <td>against</td>\n      <td>affirmative action helps with employment equity.</td>\n      <td>affirmative action helps with employment equit...</td>\n    </tr>\n    <tr>\n      <th>1</th>\n      <td>A26010</td>\n      <td>We should end affirmative action</td>\n      <td>in favor of</td>\n      <td>affirmative action can be considered discrimin...</td>\n      <td>affirmative action can be considered discrimin...</td>\n    </tr>\n    <tr>\n      <th>2</th>\n      <td>A26016</td>\n      <td>We should ban naturopathy</td>\n      <td>in favor of</td>\n      <td>naturopathy is very dangerous for the most vul...</td>\n      <td>naturopathy is very dangerous for the most vul...</td>\n    </tr>\n    <tr>\n      <th>3</th>\n      <td>A26024</td>\n      <td>We should prohibit women in combat</td>\n      <td>in favor of</td>\n      <td>women shouldn't be in combat because they aren...</td>\n      <td>women shouldn't be in combat because they aren...</td>\n    </tr>\n    <tr>\n      <th>4</th>\n      <td>A26026</td>\n      <td>We should ban naturopathy</td>\n      <td>in favor of</td>\n      <td>once eradicated illnesses are returning due to...</td>\n      <td>once eradicated illnesses are returning due to...</td>\n    </tr>\n  </tbody>\n</table>\n</div>"
     },
     "execution_count": 30,
     "metadata": {},
     "output_type": "execute_result"
    }
   ],
   "source": [
    "test_df_input[\"text\"] = test_df_input[\"Premise\"]+\" \" + test_df_input[\"Stance\"]+ \" \" + test_df_input[\"Conclusion\"]\n",
    "test_df_input.head()"
   ]
  },
  {
   "cell_type": "code",
   "execution_count": 31,
   "metadata": {},
   "outputs": [
    {
     "data": {
      "text/plain": "  0%|          | 0/1576 [00:00<?, ?it/s]",
      "application/vnd.jupyter.widget-view+json": {
       "version_major": 2,
       "version_minor": 0,
       "model_id": "7e34315862f040d18f94e305df230ef2"
      }
     },
     "metadata": {},
     "output_type": "display_data"
    }
   ],
   "source": [
    "device = torch.device('cuda' if torch.cuda.is_available() else 'cpu')\n",
    "trained_model = trained_model.to(device)\n",
    "\n",
    "test_df_dataset = BertDataset(\n",
    "    data=test_df_input,\n",
    "    tokenizer=TOKENIZER,\n",
    "    max_token_count=PARAMS[\"MAX_TOKEN_COUNT\"],\n",
    ")\n",
    "\n",
    "predictions = []\n",
    "\n",
    "for item in tqdm(test_df_dataset):\n",
    "    _, prediction = trained_model(\n",
    "        item[\"input_ids\"].unsqueeze(dim=0).to(device),\n",
    "        item[\"attention_mask\"].unsqueeze(dim=0).to(device)\n",
    "    )\n",
    "    predictions.append(prediction.flatten())\n",
    "\n",
    "predictions = torch.stack(predictions).detach().cpu()"
   ]
  },
  {
   "cell_type": "code",
   "execution_count": 26,
   "metadata": {},
   "outputs": [],
   "source": [
    "y_pred = predictions.numpy()\n",
    "upper, lower = 1, 0\n",
    "y_pred = np.where(y_pred > THRESHOLD, upper, lower)"
   ]
  },
  {
   "cell_type": "code",
   "execution_count": 27,
   "metadata": {},
   "outputs": [
    {
     "data": {
      "text/html": [
       "<div>\n",
       "<style scoped>\n",
       "    .dataframe tbody tr th:only-of-type {\n",
       "        vertical-align: middle;\n",
       "    }\n",
       "\n",
       "    .dataframe tbody tr th {\n",
       "        vertical-align: top;\n",
       "    }\n",
       "\n",
       "    .dataframe thead th {\n",
       "        text-align: right;\n",
       "    }\n",
       "</style>\n",
       "<table border=\"1\" class=\"dataframe\">\n",
       "  <thead>\n",
       "    <tr style=\"text-align: right;\">\n",
       "      <th></th>\n",
       "      <th>Argument ID</th>\n",
       "      <th>Self-direction: thought</th>\n",
       "      <th>Self-direction: action</th>\n",
       "      <th>Stimulation</th>\n",
       "      <th>Hedonism</th>\n",
       "      <th>Achievement</th>\n",
       "      <th>Power: dominance</th>\n",
       "      <th>Power: resources</th>\n",
       "      <th>Face</th>\n",
       "      <th>Security: personal</th>\n",
       "      <th>...</th>\n",
       "      <th>Tradition</th>\n",
       "      <th>Conformity: rules</th>\n",
       "      <th>Conformity: interpersonal</th>\n",
       "      <th>Humility</th>\n",
       "      <th>Benevolence: caring</th>\n",
       "      <th>Benevolence: dependability</th>\n",
       "      <th>Universalism: concern</th>\n",
       "      <th>Universalism: nature</th>\n",
       "      <th>Universalism: tolerance</th>\n",
       "      <th>Universalism: objectivity</th>\n",
       "    </tr>\n",
       "  </thead>\n",
       "  <tbody>\n",
       "    <tr>\n",
       "      <th>0</th>\n",
       "      <td>A26004</td>\n",
       "      <td>0</td>\n",
       "      <td>0</td>\n",
       "      <td>0</td>\n",
       "      <td>0</td>\n",
       "      <td>1</td>\n",
       "      <td>0</td>\n",
       "      <td>0</td>\n",
       "      <td>0</td>\n",
       "      <td>1</td>\n",
       "      <td>...</td>\n",
       "      <td>0</td>\n",
       "      <td>0</td>\n",
       "      <td>0</td>\n",
       "      <td>0</td>\n",
       "      <td>0</td>\n",
       "      <td>0</td>\n",
       "      <td>1</td>\n",
       "      <td>0</td>\n",
       "      <td>0</td>\n",
       "      <td>0</td>\n",
       "    </tr>\n",
       "    <tr>\n",
       "      <th>1</th>\n",
       "      <td>A26010</td>\n",
       "      <td>0</td>\n",
       "      <td>0</td>\n",
       "      <td>0</td>\n",
       "      <td>0</td>\n",
       "      <td>0</td>\n",
       "      <td>0</td>\n",
       "      <td>0</td>\n",
       "      <td>0</td>\n",
       "      <td>0</td>\n",
       "      <td>...</td>\n",
       "      <td>0</td>\n",
       "      <td>0</td>\n",
       "      <td>0</td>\n",
       "      <td>0</td>\n",
       "      <td>0</td>\n",
       "      <td>0</td>\n",
       "      <td>1</td>\n",
       "      <td>0</td>\n",
       "      <td>1</td>\n",
       "      <td>0</td>\n",
       "    </tr>\n",
       "    <tr>\n",
       "      <th>2</th>\n",
       "      <td>A26016</td>\n",
       "      <td>0</td>\n",
       "      <td>0</td>\n",
       "      <td>0</td>\n",
       "      <td>0</td>\n",
       "      <td>1</td>\n",
       "      <td>0</td>\n",
       "      <td>0</td>\n",
       "      <td>0</td>\n",
       "      <td>1</td>\n",
       "      <td>...</td>\n",
       "      <td>0</td>\n",
       "      <td>0</td>\n",
       "      <td>0</td>\n",
       "      <td>0</td>\n",
       "      <td>1</td>\n",
       "      <td>0</td>\n",
       "      <td>1</td>\n",
       "      <td>0</td>\n",
       "      <td>0</td>\n",
       "      <td>1</td>\n",
       "    </tr>\n",
       "    <tr>\n",
       "      <th>3</th>\n",
       "      <td>A26024</td>\n",
       "      <td>0</td>\n",
       "      <td>0</td>\n",
       "      <td>0</td>\n",
       "      <td>0</td>\n",
       "      <td>1</td>\n",
       "      <td>0</td>\n",
       "      <td>0</td>\n",
       "      <td>0</td>\n",
       "      <td>0</td>\n",
       "      <td>...</td>\n",
       "      <td>0</td>\n",
       "      <td>0</td>\n",
       "      <td>0</td>\n",
       "      <td>0</td>\n",
       "      <td>0</td>\n",
       "      <td>0</td>\n",
       "      <td>1</td>\n",
       "      <td>0</td>\n",
       "      <td>0</td>\n",
       "      <td>0</td>\n",
       "    </tr>\n",
       "    <tr>\n",
       "      <th>4</th>\n",
       "      <td>A26026</td>\n",
       "      <td>0</td>\n",
       "      <td>0</td>\n",
       "      <td>0</td>\n",
       "      <td>0</td>\n",
       "      <td>0</td>\n",
       "      <td>0</td>\n",
       "      <td>0</td>\n",
       "      <td>0</td>\n",
       "      <td>1</td>\n",
       "      <td>...</td>\n",
       "      <td>0</td>\n",
       "      <td>0</td>\n",
       "      <td>0</td>\n",
       "      <td>0</td>\n",
       "      <td>0</td>\n",
       "      <td>0</td>\n",
       "      <td>0</td>\n",
       "      <td>0</td>\n",
       "      <td>0</td>\n",
       "      <td>1</td>\n",
       "    </tr>\n",
       "  </tbody>\n",
       "</table>\n",
       "<p>5 rows × 21 columns</p>\n",
       "</div>"
      ],
      "text/plain": [
       "  Argument ID  Self-direction: thought  Self-direction: action  Stimulation  \\\n",
       "0      A26004                        0                       0            0   \n",
       "1      A26010                        0                       0            0   \n",
       "2      A26016                        0                       0            0   \n",
       "3      A26024                        0                       0            0   \n",
       "4      A26026                        0                       0            0   \n",
       "\n",
       "   Hedonism  Achievement  Power: dominance  Power: resources  Face  \\\n",
       "0         0            1                 0                 0     0   \n",
       "1         0            0                 0                 0     0   \n",
       "2         0            1                 0                 0     0   \n",
       "3         0            1                 0                 0     0   \n",
       "4         0            0                 0                 0     0   \n",
       "\n",
       "   Security: personal  ...  Tradition  Conformity: rules  \\\n",
       "0                   1  ...          0                  0   \n",
       "1                   0  ...          0                  0   \n",
       "2                   1  ...          0                  0   \n",
       "3                   0  ...          0                  0   \n",
       "4                   1  ...          0                  0   \n",
       "\n",
       "   Conformity: interpersonal  Humility  Benevolence: caring  \\\n",
       "0                          0         0                    0   \n",
       "1                          0         0                    0   \n",
       "2                          0         0                    1   \n",
       "3                          0         0                    0   \n",
       "4                          0         0                    0   \n",
       "\n",
       "   Benevolence: dependability  Universalism: concern  Universalism: nature  \\\n",
       "0                           0                      1                     0   \n",
       "1                           0                      1                     0   \n",
       "2                           0                      1                     0   \n",
       "3                           0                      1                     0   \n",
       "4                           0                      0                     0   \n",
       "\n",
       "   Universalism: tolerance  Universalism: objectivity  \n",
       "0                        0                          0  \n",
       "1                        1                          0  \n",
       "2                        0                          1  \n",
       "3                        0                          0  \n",
       "4                        0                          1  \n",
       "\n",
       "[5 rows x 21 columns]"
      ]
     },
     "execution_count": 27,
     "metadata": {},
     "output_type": "execute_result"
    }
   ],
   "source": [
    "prediction_dictionary = {}\n",
    "prediction_dictionary[\"Argument ID\"] = test_df_input[\"Argument ID\"]\n",
    "for idx, l_name in enumerate(LABEL_COLUMNS):\n",
    "  prediction_dictionary[l_name]=y_pred[:,idx]\n",
    "\n",
    "test_prediction_df = pd.DataFrame(prediction_dictionary)\n",
    "test_prediction_df.head()"
   ]
  },
  {
   "cell_type": "code",
   "execution_count": 28,
   "metadata": {},
   "outputs": [
    {
     "data": {
      "text/html": [
       "<pre style=\"white-space:pre;overflow-x:auto;line-height:normal;font-family:Menlo,'DejaVu Sans Mono',consolas,'Courier New',monospace\"><span style=\"color: #800000; text-decoration-color: #800000\">╭─────────────────────────────── </span><span style=\"color: #800000; text-decoration-color: #800000; font-weight: bold\">Traceback </span><span style=\"color: #bf7f7f; text-decoration-color: #bf7f7f; font-weight: bold\">(most recent call last)</span><span style=\"color: #800000; text-decoration-color: #800000\"> ────────────────────────────────╮</span>\n",
       "<span style=\"color: #800000; text-decoration-color: #800000\">│</span> <span style=\"color: #808000; text-decoration-color: #808000\">C:\\Users\\dschr\\AppData\\Local\\Temp\\ipykernel_19996\\3780997615.py</span>:<span style=\"color: #0000ff; text-decoration-color: #0000ff\">1</span> in <span style=\"color: #00ff00; text-decoration-color: #00ff00\">&lt;cell line: 1&gt;</span>              <span style=\"color: #800000; text-decoration-color: #800000\">│</span>\n",
       "<span style=\"color: #800000; text-decoration-color: #800000\">│</span>                                                                                                  <span style=\"color: #800000; text-decoration-color: #800000\">│</span>\n",
       "<span style=\"color: #800000; text-decoration-color: #800000\">│</span> <span style=\"color: #800000; text-decoration-color: #800000; font-style: italic\">[Errno 2] No such file or directory: </span>                                                            <span style=\"color: #800000; text-decoration-color: #800000\">│</span>\n",
       "<span style=\"color: #800000; text-decoration-color: #800000\">│</span> <span style=\"color: #800000; text-decoration-color: #800000; font-style: italic\">'C:\\\\Users\\\\dschr\\\\AppData\\\\Local\\\\Temp\\\\ipykernel_19996\\\\3780997615.py'</span>                         <span style=\"color: #800000; text-decoration-color: #800000\">│</span>\n",
       "<span style=\"color: #800000; text-decoration-color: #800000\">╰──────────────────────────────────────────────────────────────────────────────────────────────────╯</span>\n",
       "<span style=\"color: #ff0000; text-decoration-color: #ff0000; font-weight: bold\">NameError: </span>name <span style=\"color: #008000; text-decoration-color: #008000\">'RUN_ID'</span> is not defined\n",
       "</pre>\n"
      ],
      "text/plain": [
       "\u001B[31m╭─\u001B[0m\u001B[31m──────────────────────────────\u001B[0m\u001B[31m \u001B[0m\u001B[1;31mTraceback \u001B[0m\u001B[1;2;31m(most recent call last)\u001B[0m\u001B[31m \u001B[0m\u001B[31m───────────────────────────────\u001B[0m\u001B[31m─╮\u001B[0m\n",
       "\u001B[31m│\u001B[0m \u001B[33mC:\\Users\\dschr\\AppData\\Local\\Temp\\ipykernel_19996\\3780997615.py\u001B[0m:\u001B[94m1\u001B[0m in \u001B[92m<cell line: 1>\u001B[0m              \u001B[31m│\u001B[0m\n",
       "\u001B[31m│\u001B[0m                                                                                                  \u001B[31m│\u001B[0m\n",
       "\u001B[31m│\u001B[0m \u001B[3;31m[Errno 2] No such file or directory: \u001B[0m                                                            \u001B[31m│\u001B[0m\n",
       "\u001B[31m│\u001B[0m \u001B[3;31m'C:\\\\Users\\\\dschr\\\\AppData\\\\Local\\\\Temp\\\\ipykernel_19996\\\\3780997615.py'\u001B[0m                         \u001B[31m│\u001B[0m\n",
       "\u001B[31m╰──────────────────────────────────────────────────────────────────────────────────────────────────╯\u001B[0m\n",
       "\u001B[1;91mNameError: \u001B[0mname \u001B[32m'RUN_ID'\u001B[0m is not defined\n"
      ]
     },
     "metadata": {},
     "output_type": "display_data"
    }
   ],
   "source": [
    "if RUN_ID:\n",
    "    test_prediction_df.to_csv(f\"submissions/{RUN_ID}-submission_test.txt\", sep=\"\\t\", index=False)\n",
    "else:\n",
    "    test_prediction_df.to_csv(f\"submissions/{NAME}-submission_test.txt\", sep=\"\\t\", index=False)"
   ]
  },
  {
   "cell_type": "markdown",
   "metadata": {},
   "source": [
    "# Looking at single predictions"
   ]
  },
  {
   "cell_type": "code",
   "execution_count": 35,
   "metadata": {},
   "outputs": [],
   "source": [
    "def print_example_prediction(record, show_all_probs=False, THRESHOLD=0.3):\n",
    "\n",
    "    print(record[\"Argument ID\"])\n",
    "    print(record[\"text\"])\n",
    "    print(f\"True Label: {record.category}\")\n",
    "\n",
    "\n",
    "    encoding = TOKENIZER.encode_plus(\n",
    "        record.text,\n",
    "        add_special_tokens=True,\n",
    "        max_length=512,\n",
    "        return_token_type_ids=False,\n",
    "        padding=\"max_length\",\n",
    "        return_attention_mask=True,\n",
    "        return_tensors='pt',\n",
    "    )\n",
    "\n",
    "    _, test_prediction = trained_model(encoding[\"input_ids\"], encoding[\"attention_mask\"])\n",
    "    test_prediction = test_prediction.flatten().numpy()\n",
    "\n",
    "    res = {}\n",
    "    if show_all_probs:\n",
    "        for label, prediction in zip(LABEL_COLUMNS, test_prediction):\n",
    "            print(f\"{label}: {prediction}\")\n",
    "            res[label] = prediction\n",
    "\n",
    "    else:\n",
    "        print(f\"Predictions:\")\n",
    "        for label, prediction in zip(LABEL_COLUMNS, test_prediction):\n",
    "            if prediction < THRESHOLD:\n",
    "                continue\n",
    "            print(f\"{label}: {prediction}\")\n",
    "            res[label] = prediction\n",
    "    return res"
   ]
  },
  {
   "cell_type": "code",
   "execution_count": 36,
   "metadata": {},
   "outputs": [
    {
     "name": "stdout",
     "output_type": "stream",
     "text": [
      "A18309\n",
      "social media gives it users a place to seek support when in need whether emotional or financially, things that would be more difficult if not impossible to do outside of their home. against Social media brings more harm than good\n",
      "True Label: ['Self-direction: action', 'Face', 'Security: personal', 'Benevolence: caring', 'Benevolence: dependability']\n",
      "Predictions:\n",
      "Self-direction: action: 0.49473991990089417\n",
      "Stimulation: 0.40371981263160706\n",
      "Hedonism: 0.4516661763191223\n",
      "Security: personal: 0.9821780323982239\n",
      "Benevolence: caring: 0.9349980354309082\n",
      "Universalism: tolerance: 0.327671617269516\n"
     ]
    },
    {
     "data": {
      "text/plain": "{'Self-direction: action': 0.49473992,\n 'Stimulation': 0.4037198,\n 'Hedonism': 0.45166618,\n 'Security: personal': 0.98217803,\n 'Benevolence: caring': 0.93499804,\n 'Universalism: tolerance': 0.32767162}"
     },
     "execution_count": 36,
     "metadata": {},
     "output_type": "execute_result"
    }
   ],
   "source": [
    "# 13 whaling is good one\n",
    "trained_model.to(\"cpu\")\n",
    "test_record = test_df.iloc[6]\n",
    "print_example_prediction(test_record, show_all_probs=False, THRESHOLD=THRESHOLD)\n"
   ]
  },
  {
   "cell_type": "code",
   "execution_count": null,
   "outputs": [],
   "source": [],
   "metadata": {
    "collapsed": false
   }
  }
 ],
 "metadata": {
  "colab": {
   "collapsed_sections": [],
   "provenance": [
    {
     "file_id": "14Ea4lIzsn5EFvPpYKtWStXEByT9qmbkj",
     "timestamp": 1667212470973
    }
   ]
  },
  "gpuClass": "standard",
  "kernelspec": {
   "display_name": "Python 3 (ipykernel)",
   "language": "python",
   "name": "python3"
  },
  "language_info": {
   "codemirror_mode": {
    "name": "ipython",
    "version": 3
   },
   "file_extension": ".py",
   "mimetype": "text/x-python",
   "name": "python",
   "nbconvert_exporter": "python",
   "pygments_lexer": "ipython3",
   "version": "3.10.6"
  }
 },
 "nbformat": 4,
 "nbformat_minor": 1
}
